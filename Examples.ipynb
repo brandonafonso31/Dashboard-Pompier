{
 "cells": [
  {
   "cell_type": "code",
   "execution_count": 1,
   "id": "d0a4286b-83a4-4f81-b9b1-aecfb71130a6",
   "metadata": {},
   "outputs": [
    {
     "name": "stderr",
     "output_type": "stream",
     "text": [
      "/home/brandon/Projet_TER/-Interactive-Emergency-Response-Dashboard-Haute-Garonne-Mike/-Interactive-Emergency-Response-Dashboard-Haute-Garonne-Mike/.venv/lib/python3.13/site-packages/tqdm/auto.py:21: TqdmWarning: IProgress not found. Please update jupyter and ipywidgets. See https://ipywidgets.readthedocs.io/en/stable/user_install.html\n",
      "  from .autonotebook import tqdm as notebook_tqdm\n"
     ]
    },
    {
     "name": "stdout",
     "output_type": "stream",
     "text": [
      "device is cuda\n"
     ]
    }
   ],
   "source": [
    "import json\n",
    "import os\n",
    "from collections import defaultdict\n",
    "import pickle\n",
    "import json\n",
    "from tqdm.auto import tqdm\n",
    "import subprocess\n",
    "import pandas as pd\n",
    "import numpy as np\n",
    "import matplotlib.pyplot as plt\n",
    "\n",
    "\n",
    "os.environ[\"CUDA_LAUNCH_BLOCKING\"] = \"1\"\n",
    "os.environ[\"CUDA_VISIBLE_DEVICES\"] = \"0\"\n",
    "\n",
    "import torch \n",
    "device = torch.device(\"cuda\" if torch.cuda.is_available() else \"cpu\")\n",
    "print(\"device is\", device)"
   ]
  },
  {
   "cell_type": "code",
   "execution_count": 2,
   "id": "4c38cfad",
   "metadata": {},
   "outputs": [
    {
     "name": "stdout",
     "output_type": "stream",
     "text": [
      "/home/brandon/Projet_TER/-Interactive-Emergency-Response-Dashboard-Haute-Garonne-Mike/-Interactive-Emergency-Response-Dashboard-Haute-Garonne-Mike/Scripts\n",
      "/home/brandon/Projet_TER/-Interactive-Emergency-Response-Dashboard-Haute-Garonne-Mike/-Interactive-Emergency-Response-Dashboard-Haute-Garonne-Mike/Scripts\n"
     ]
    }
   ],
   "source": [
    "import os\n",
    "print(os.getcwd())\n",
    "os.chdir('/home/brandon/Projet_TER/-Interactive-Emergency-Response-Dashboard-Haute-Garonne-Mike/-Interactive-Emergency-Response-Dashboard-Haute-Garonne-Mike/Scripts')\n",
    "print(os.getcwd())"
   ]
  },
  {
   "cell_type": "code",
   "execution_count": 3,
   "id": "809f0e65",
   "metadata": {},
   "outputs": [
    {
     "name": "stdout",
     "output_type": "stream",
     "text": [
      "Pandas version: 2.2.3\n",
      "NumPy version: 2.2.6\n"
     ]
    }
   ],
   "source": [
    "import pandas as pd\n",
    "import numpy as np\n",
    "\n",
    "print(\"Pandas version:\", pd.__version__)\n",
    "print(\"NumPy version:\", np.__version__)"
   ]
  },
  {
   "cell_type": "markdown",
   "id": "ddb3a3c9-ea32-4be0-a174-491e77646798",
   "metadata": {},
   "source": [
    "# Train"
   ]
  },
  {
   "cell_type": "code",
   "execution_count": 4,
   "id": "f9ec22b4-f6ae-4a71-96d2-fdbd39ea1ee4",
   "metadata": {},
   "outputs": [
    {
     "name": "stdout",
     "output_type": "stream",
     "text": [
      "Index(['Month_sin', 'Month_cos', 'Hour_sin', 'Hour_cos', 'Day_sin', 'Day_cos',\n",
      "       'Coord X', 'Coord Y', 'Duration', 'Incident', 'Month', 'Day', 'Hour'],\n",
      "      dtype='object')\n",
      "Index(['Month_sin', 'Month_cos', 'Hour_sin', 'Hour_cos', 'Day_sin', 'Day_cos',\n",
      "       'Coord X', 'Coord Y', 'Duration', 'Incident'],\n",
      "      dtype='object')\n",
      "K [0]\n",
      "features 9\n",
      "{'d_in': np.int64(9), 'is_y_cond': True, 'num_classes': 56, 'rtdl_params': {'d_layers': [1024, 1024], 'dropout': 0.0}, 'dim_t': 128}\n",
      "mlp\n",
      "label embedding Embedding(56, 128)\n",
      "diffusion ready\n",
      "Model trained\n"
     ]
    }
   ],
   "source": [
    "%run train.py --lr 0.0025 --layers 1024 --num_timesteps 1000 --is_y_cond --save_as 'dqn_test' "
   ]
  },
  {
   "cell_type": "markdown",
   "id": "10582dc0-d140-4c06-9ebc-cce58564fb1b",
   "metadata": {},
   "source": [
    "# Sample"
   ]
  },
  {
   "cell_type": "code",
   "execution_count": 5,
   "id": "110f9804-231c-4adc-8a8c-ce1e4d8079d7",
   "metadata": {},
   "outputs": [
    {
     "name": "stdout",
     "output_type": "stream",
     "text": [
      "iteration 0\n",
      "os factor: 3 sample batch size: 8192 variability: 0.02\n",
      "[0]\n",
      "features 9\n",
      "{'d_in': np.int64(9), 'is_y_cond': True, 'num_classes': 56, 'rtdl_params': {'d_layers': [1024, 1024], 'dropout': 0.0}, 'dim_t': 128}\n",
      "mlp\n",
      "label embedding Embedding(56, 128)\n",
      "params loaded\n",
      "diffusion ready\n",
      "Index(['area_name', 'count', 'new_samples', 'perc.', 'delta'], dtype='object')\n",
      "new samples OK\n",
      "(53088, 14)\n",
      "Index(['Coord X', 'Coord Y', 'Duration', 'Day', 'Month', 'Hour', 'Incident',\n",
      "'Month_sin', 'Month_cos', 'Day_sin', 'Day_cos', 'Hour_sin', 'Hour_cos',\n",
      "'area_name'],\n",
      "dtype='object')\n",
      "dataset sampled\n",
      "--- df_fake_0.pkl done---\n",
      "\n",
      "iteration 1\n",
      "os factor: 3 sample batch size: 8192 variability: 0.02\n",
      "[0]\n",
      "features 9\n",
      "{'d_in': np.int64(9), 'is_y_cond': True, 'num_classes': 56, 'rtdl_params': {'d_layers': [1024, 1024], 'dropout': 0.0}, 'dim_t': 128}\n",
      "mlp\n",
      "label embedding Embedding(56, 128)\n",
      "params loaded\n",
      "diffusion ready\n",
      "Index(['area_name', 'count', 'new_samples', 'perc.', 'delta'], dtype='object')\n",
      "new samples OK\n",
      "(53088, 14)\n",
      "Index(['Coord X', 'Coord Y', 'Duration', 'Day', 'Month', 'Hour', 'Incident',\n",
      "'Month_sin', 'Month_cos', 'Day_sin', 'Day_cos', 'Hour_sin', 'Hour_cos',\n",
      "'area_name'],\n",
      "dtype='object')\n",
      "dataset sampled\n",
      "--- df_fake_1.pkl done---\n",
      "\n",
      "iteration 2\n",
      "os factor: 3 sample batch size: 8192 variability: 0.02\n",
      "[0]\n",
      "features 9\n",
      "{'d_in': np.int64(9), 'is_y_cond': True, 'num_classes': 56, 'rtdl_params': {'d_layers': [1024, 1024], 'dropout': 0.0}, 'dim_t': 128}\n",
      "mlp\n",
      "label embedding Embedding(56, 128)\n",
      "params loaded\n",
      "diffusion ready\n",
      "Index(['area_name', 'count', 'new_samples', 'perc.', 'delta'], dtype='object')\n",
      "new samples OK\n",
      "(53088, 14)\n",
      "Index(['Coord X', 'Coord Y', 'Duration', 'Day', 'Month', 'Hour', 'Incident',\n",
      "'Month_sin', 'Month_cos', 'Day_sin', 'Day_cos', 'Hour_sin', 'Hour_cos',\n",
      "'area_name'],\n",
      "dtype='object')\n",
      "dataset sampled\n",
      "--- df_fake_2.pkl done---\n",
      "\n",
      "iteration 3\n",
      "os factor: 3 sample batch size: 8192 variability: 0.02\n",
      "[0]\n",
      "features 9\n",
      "{'d_in': np.int64(9), 'is_y_cond': True, 'num_classes': 56, 'rtdl_params': {'d_layers': [1024, 1024], 'dropout': 0.0}, 'dim_t': 128}\n",
      "mlp\n",
      "label embedding Embedding(56, 128)\n",
      "params loaded\n",
      "diffusion ready\n",
      "Index(['area_name', 'count', 'new_samples', 'perc.', 'delta'], dtype='object')\n",
      "new samples OK\n",
      "(53088, 14)\n",
      "Index(['Coord X', 'Coord Y', 'Duration', 'Day', 'Month', 'Hour', 'Incident',\n",
      "'Month_sin', 'Month_cos', 'Day_sin', 'Day_cos', 'Hour_sin', 'Hour_cos',\n",
      "'area_name'],\n",
      "dtype='object')\n",
      "dataset sampled\n",
      "--- df_fake_3.pkl done---\n",
      "\n",
      "iteration 4\n",
      "os factor: 3 sample batch size: 8192 variability: 0.02\n",
      "[0]\n",
      "features 9\n",
      "{'d_in': np.int64(9), 'is_y_cond': True, 'num_classes': 56, 'rtdl_params': {'d_layers': [1024, 1024], 'dropout': 0.0}, 'dim_t': 128}\n",
      "mlp\n",
      "label embedding Embedding(56, 128)\n",
      "params loaded\n",
      "diffusion ready\n",
      "Index(['area_name', 'count', 'new_samples', 'perc.', 'delta'], dtype='object')\n",
      "new samples OK\n",
      "(53088, 14)\n",
      "Index(['Coord X', 'Coord Y', 'Duration', 'Day', 'Month', 'Hour', 'Incident',\n",
      "'Month_sin', 'Month_cos', 'Day_sin', 'Day_cos', 'Hour_sin', 'Hour_cos',\n",
      "'area_name'],\n",
      "dtype='object')\n",
      "dataset sampled\n",
      "--- df_fake_4.pkl done---\n",
      "\n",
      "iteration 5\n",
      "os factor: 3 sample batch size: 8192 variability: 0.02\n",
      "[0]\n",
      "features 9\n",
      "{'d_in': np.int64(9), 'is_y_cond': True, 'num_classes': 56, 'rtdl_params': {'d_layers': [1024, 1024], 'dropout': 0.0}, 'dim_t': 128}\n",
      "mlp\n",
      "label embedding Embedding(56, 128)\n",
      "params loaded\n",
      "diffusion ready\n",
      "Index(['area_name', 'count', 'new_samples', 'perc.', 'delta'], dtype='object')\n",
      "new samples OK\n",
      "(53088, 14)\n",
      "Index(['Coord X', 'Coord Y', 'Duration', 'Day', 'Month', 'Hour', 'Incident',\n",
      "'Month_sin', 'Month_cos', 'Day_sin', 'Day_cos', 'Hour_sin', 'Hour_cos',\n",
      "'area_name'],\n",
      "dtype='object')\n",
      "dataset sampled\n",
      "--- df_fake_5.pkl done---\n",
      "\n",
      "iteration 6\n",
      "os factor: 3 sample batch size: 8192 variability: 0.02\n",
      "[0]\n",
      "features 9\n",
      "{'d_in': np.int64(9), 'is_y_cond': True, 'num_classes': 56, 'rtdl_params': {'d_layers': [1024, 1024], 'dropout': 0.0}, 'dim_t': 128}\n",
      "mlp\n",
      "label embedding Embedding(56, 128)\n",
      "params loaded\n",
      "diffusion ready\n",
      "Index(['area_name', 'count', 'new_samples', 'perc.', 'delta'], dtype='object')\n",
      "new samples OK\n",
      "(53088, 14)\n",
      "Index(['Coord X', 'Coord Y', 'Duration', 'Day', 'Month', 'Hour', 'Incident',\n",
      "'Month_sin', 'Month_cos', 'Day_sin', 'Day_cos', 'Hour_sin', 'Hour_cos',\n",
      "'area_name'],\n",
      "dtype='object')\n",
      "dataset sampled\n",
      "--- df_fake_6.pkl done---\n",
      "\n",
      "iteration 7\n",
      "os factor: 3 sample batch size: 8192 variability: 0.02\n",
      "[0]\n",
      "features 9\n",
      "{'d_in': np.int64(9), 'is_y_cond': True, 'num_classes': 56, 'rtdl_params': {'d_layers': [1024, 1024], 'dropout': 0.0}, 'dim_t': 128}\n",
      "mlp\n",
      "label embedding Embedding(56, 128)\n",
      "params loaded\n",
      "diffusion ready\n",
      "Index(['area_name', 'count', 'new_samples', 'perc.', 'delta'], dtype='object')\n",
      "new samples OK\n",
      "(53088, 14)\n",
      "Index(['Coord X', 'Coord Y', 'Duration', 'Day', 'Month', 'Hour', 'Incident',\n",
      "'Month_sin', 'Month_cos', 'Day_sin', 'Day_cos', 'Hour_sin', 'Hour_cos',\n",
      "'area_name'],\n",
      "dtype='object')\n",
      "dataset sampled\n",
      "--- df_fake_7.pkl done---\n",
      "\n",
      "iteration 8\n",
      "os factor: 3 sample batch size: 8192 variability: 0.02\n",
      "[0]\n",
      "features 9\n",
      "{'d_in': np.int64(9), 'is_y_cond': True, 'num_classes': 56, 'rtdl_params': {'d_layers': [1024, 1024], 'dropout': 0.0}, 'dim_t': 128}\n",
      "mlp\n",
      "label embedding Embedding(56, 128)\n",
      "params loaded\n",
      "diffusion ready\n",
      "Index(['area_name', 'count', 'new_samples', 'perc.', 'delta'], dtype='object')\n",
      "new samples OK\n",
      "(53088, 14)\n",
      "Index(['Coord X', 'Coord Y', 'Duration', 'Day', 'Month', 'Hour', 'Incident',\n",
      "'Month_sin', 'Month_cos', 'Day_sin', 'Day_cos', 'Hour_sin', 'Hour_cos',\n",
      "'area_name'],\n",
      "dtype='object')\n",
      "dataset sampled\n",
      "--- df_fake_8.pkl done---\n",
      "\n",
      "iteration 9\n",
      "os factor: 3 sample batch size: 8192 variability: 0.02\n",
      "[0]\n",
      "features 9\n",
      "{'d_in': np.int64(9), 'is_y_cond': True, 'num_classes': 56, 'rtdl_params': {'d_layers': [1024, 1024], 'dropout': 0.0}, 'dim_t': 128}\n",
      "mlp\n",
      "label embedding Embedding(56, 128)\n",
      "params loaded\n",
      "diffusion ready\n",
      "Index(['area_name', 'count', 'new_samples', 'perc.', 'delta'], dtype='object')\n",
      "new samples OK\n",
      "(53088, 14)\n",
      "Index(['Coord X', 'Coord Y', 'Duration', 'Day', 'Month', 'Hour', 'Incident',\n",
      "'Month_sin', 'Month_cos', 'Day_sin', 'Day_cos', 'Hour_sin', 'Hour_cos',\n",
      "'area_name'],\n",
      "dtype='object')\n",
      "dataset sampled\n",
      "--- df_fake_9.pkl done---\n",
      "\n"
     ]
    }
   ],
   "source": [
    "for i in range(10): # génère i datasets\n",
    "    print(\"iteration\", i)\n",
    "    filename = f\"df_fake_{i}.pkl\"\n",
    "    \n",
    "    process = subprocess.Popen(\n",
    "        [\"python\", \"sample.py\", \n",
    "         \"--load_as\", 'dqn_test', \n",
    "         \"--save_sample_as\", filename, \n",
    "         \"--os_factor\", \"3\", \n",
    "         \"--to_keep\", \"40\", \n",
    "         \"--value_span\", \"100\"],\n",
    "        stdout=subprocess.PIPE,\n",
    "        stderr=subprocess.STDOUT,\n",
    "        text=True,\n",
    "        bufsize=1  # pour forcer le flush ligne par ligne\n",
    "    )\n",
    "\n",
    "    # process.wait() # évite le lazy\n",
    "\n",
    "    line_count = 0\n",
    "    for line in process.stdout:\n",
    "        line_count += 1\n",
    "        if line_count % 50 == 0:\n",
    "            clear_output(wait=True)\n",
    "    \n",
    "        print(line.strip())\n",
    "\n",
    "    print(f\"--- {filename} done---\\n\")"
   ]
  },
  {
   "cell_type": "markdown",
   "id": "d5827859-987d-4ce5-932d-549ca39adb4e",
   "metadata": {},
   "source": [
    "# Generate environment"
   ]
  },
  {
   "cell_type": "code",
   "execution_count": null,
   "id": "8356e36b-ddf6-497f-8ea3-c0b9f0dfdc26",
   "metadata": {},
   "outputs": [],
   "source": [
    "# lister les fichiers samplés à concaténer"
   ]
  },
  {
   "cell_type": "code",
   "execution_count": 6,
   "id": "652e1fc1-21be-492f-a751-4b5fe1ebf704",
   "metadata": {},
   "outputs": [
    {
     "name": "stdout",
     "output_type": "stream",
     "text": [
      "is probabilistic departure False\n"
     ]
    },
    {
     "ename": "FileNotFoundError",
     "evalue": "[Errno 2] No such file or directory: 'sorties_2018.csv'",
     "output_type": "error",
     "traceback": [
      "\u001b[31m---------------------------------------------------------------------------\u001b[39m",
      "\u001b[31mFileNotFoundError\u001b[39m                         Traceback (most recent call last)",
      "\u001b[36mFile \u001b[39m\u001b[32m~/Projet_TER/-Interactive-Emergency-Response-Dashboard-Haute-Garonne-Mike/-Interactive-Emergency-Response-Dashboard-Haute-Garonne-Mike/Scripts/generate_environment.py:441\u001b[39m\n\u001b[32m    437\u001b[39m Z_3 = [\u001b[33m'\u001b[39m\u001b[33mAUTERIVE\u001b[39m\u001b[33m'\u001b[39m, \u001b[33m'\u001b[39m\u001b[33mST LYS\u001b[39m\u001b[33m'\u001b[39m, \u001b[33m'\u001b[39m\u001b[33mGRENADE\u001b[39m\u001b[33m'\u001b[39m, \u001b[33m'\u001b[39m\u001b[33mFRONTON\u001b[39m\u001b[33m'\u001b[39m, \u001b[33m'\u001b[39m\u001b[33mVERFEIL\u001b[39m\u001b[33m'\u001b[39m, \u001b[33m'\u001b[39m\u001b[33mCARAMAN\u001b[39m\u001b[33m'\u001b[39m]\n\u001b[32m    439\u001b[39m os.chdir(\u001b[33m'\u001b[39m\u001b[33m./Data\u001b[39m\u001b[33m'\u001b[39m)\n\u001b[32m--> \u001b[39m\u001b[32m441\u001b[39m df_sorties = \u001b[43mpd\u001b[49m\u001b[43m.\u001b[49m\u001b[43mread_csv\u001b[49m\u001b[43m(\u001b[49m\u001b[33;43m\"\u001b[39;49m\u001b[33;43msorties_2018.csv\u001b[39;49m\u001b[33;43m\"\u001b[39;49m\u001b[43m,\u001b[49m\u001b[43m \u001b[49m\u001b[43msep\u001b[49m\u001b[43m=\u001b[49m\u001b[33;43m\"\u001b[39;49m\u001b[33;43m;\u001b[39;49m\u001b[33;43m\"\u001b[39;49m\u001b[43m)\u001b[49m\n\u001b[32m    442\u001b[39m df_firestations = pd.read_csv(\u001b[33m\"\u001b[39m\u001b[33mfirestations.csv\u001b[39m\u001b[33m\"\u001b[39m, sep = \u001b[33m'\u001b[39m\u001b[33m;\u001b[39m\u001b[33m'\u001b[39m)\n\u001b[32m    443\u001b[39m df_materiel = pd.read_csv(\u001b[33m\"\u001b[39m\u001b[33mmateriel_2018.csv\u001b[39m\u001b[33m\"\u001b[39m, sep=\u001b[33m\"\u001b[39m\u001b[33m;\u001b[39m\u001b[33m\"\u001b[39m)\n",
      "\u001b[36mFile \u001b[39m\u001b[32m~/Projet_TER/-Interactive-Emergency-Response-Dashboard-Haute-Garonne-Mike/-Interactive-Emergency-Response-Dashboard-Haute-Garonne-Mike/.venv/lib/python3.13/site-packages/pandas/io/parsers/readers.py:1026\u001b[39m, in \u001b[36mread_csv\u001b[39m\u001b[34m(filepath_or_buffer, sep, delimiter, header, names, index_col, usecols, dtype, engine, converters, true_values, false_values, skipinitialspace, skiprows, skipfooter, nrows, na_values, keep_default_na, na_filter, verbose, skip_blank_lines, parse_dates, infer_datetime_format, keep_date_col, date_parser, date_format, dayfirst, cache_dates, iterator, chunksize, compression, thousands, decimal, lineterminator, quotechar, quoting, doublequote, escapechar, comment, encoding, encoding_errors, dialect, on_bad_lines, delim_whitespace, low_memory, memory_map, float_precision, storage_options, dtype_backend)\u001b[39m\n\u001b[32m   1013\u001b[39m kwds_defaults = _refine_defaults_read(\n\u001b[32m   1014\u001b[39m     dialect,\n\u001b[32m   1015\u001b[39m     delimiter,\n\u001b[32m   (...)\u001b[39m\u001b[32m   1022\u001b[39m     dtype_backend=dtype_backend,\n\u001b[32m   1023\u001b[39m )\n\u001b[32m   1024\u001b[39m kwds.update(kwds_defaults)\n\u001b[32m-> \u001b[39m\u001b[32m1026\u001b[39m \u001b[38;5;28;01mreturn\u001b[39;00m \u001b[43m_read\u001b[49m\u001b[43m(\u001b[49m\u001b[43mfilepath_or_buffer\u001b[49m\u001b[43m,\u001b[49m\u001b[43m \u001b[49m\u001b[43mkwds\u001b[49m\u001b[43m)\u001b[49m\n",
      "\u001b[36mFile \u001b[39m\u001b[32m~/Projet_TER/-Interactive-Emergency-Response-Dashboard-Haute-Garonne-Mike/-Interactive-Emergency-Response-Dashboard-Haute-Garonne-Mike/.venv/lib/python3.13/site-packages/pandas/io/parsers/readers.py:620\u001b[39m, in \u001b[36m_read\u001b[39m\u001b[34m(filepath_or_buffer, kwds)\u001b[39m\n\u001b[32m    617\u001b[39m _validate_names(kwds.get(\u001b[33m\"\u001b[39m\u001b[33mnames\u001b[39m\u001b[33m\"\u001b[39m, \u001b[38;5;28;01mNone\u001b[39;00m))\n\u001b[32m    619\u001b[39m \u001b[38;5;66;03m# Create the parser.\u001b[39;00m\n\u001b[32m--> \u001b[39m\u001b[32m620\u001b[39m parser = \u001b[43mTextFileReader\u001b[49m\u001b[43m(\u001b[49m\u001b[43mfilepath_or_buffer\u001b[49m\u001b[43m,\u001b[49m\u001b[43m \u001b[49m\u001b[43m*\u001b[49m\u001b[43m*\u001b[49m\u001b[43mkwds\u001b[49m\u001b[43m)\u001b[49m\n\u001b[32m    622\u001b[39m \u001b[38;5;28;01mif\u001b[39;00m chunksize \u001b[38;5;129;01mor\u001b[39;00m iterator:\n\u001b[32m    623\u001b[39m     \u001b[38;5;28;01mreturn\u001b[39;00m parser\n",
      "\u001b[36mFile \u001b[39m\u001b[32m~/Projet_TER/-Interactive-Emergency-Response-Dashboard-Haute-Garonne-Mike/-Interactive-Emergency-Response-Dashboard-Haute-Garonne-Mike/.venv/lib/python3.13/site-packages/pandas/io/parsers/readers.py:1620\u001b[39m, in \u001b[36mTextFileReader.__init__\u001b[39m\u001b[34m(self, f, engine, **kwds)\u001b[39m\n\u001b[32m   1617\u001b[39m     \u001b[38;5;28mself\u001b[39m.options[\u001b[33m\"\u001b[39m\u001b[33mhas_index_names\u001b[39m\u001b[33m\"\u001b[39m] = kwds[\u001b[33m\"\u001b[39m\u001b[33mhas_index_names\u001b[39m\u001b[33m\"\u001b[39m]\n\u001b[32m   1619\u001b[39m \u001b[38;5;28mself\u001b[39m.handles: IOHandles | \u001b[38;5;28;01mNone\u001b[39;00m = \u001b[38;5;28;01mNone\u001b[39;00m\n\u001b[32m-> \u001b[39m\u001b[32m1620\u001b[39m \u001b[38;5;28mself\u001b[39m._engine = \u001b[38;5;28;43mself\u001b[39;49m\u001b[43m.\u001b[49m\u001b[43m_make_engine\u001b[49m\u001b[43m(\u001b[49m\u001b[43mf\u001b[49m\u001b[43m,\u001b[49m\u001b[43m \u001b[49m\u001b[38;5;28;43mself\u001b[39;49m\u001b[43m.\u001b[49m\u001b[43mengine\u001b[49m\u001b[43m)\u001b[49m\n",
      "\u001b[36mFile \u001b[39m\u001b[32m~/Projet_TER/-Interactive-Emergency-Response-Dashboard-Haute-Garonne-Mike/-Interactive-Emergency-Response-Dashboard-Haute-Garonne-Mike/.venv/lib/python3.13/site-packages/pandas/io/parsers/readers.py:1880\u001b[39m, in \u001b[36mTextFileReader._make_engine\u001b[39m\u001b[34m(self, f, engine)\u001b[39m\n\u001b[32m   1878\u001b[39m     \u001b[38;5;28;01mif\u001b[39;00m \u001b[33m\"\u001b[39m\u001b[33mb\u001b[39m\u001b[33m\"\u001b[39m \u001b[38;5;129;01mnot\u001b[39;00m \u001b[38;5;129;01min\u001b[39;00m mode:\n\u001b[32m   1879\u001b[39m         mode += \u001b[33m\"\u001b[39m\u001b[33mb\u001b[39m\u001b[33m\"\u001b[39m\n\u001b[32m-> \u001b[39m\u001b[32m1880\u001b[39m \u001b[38;5;28mself\u001b[39m.handles = \u001b[43mget_handle\u001b[49m\u001b[43m(\u001b[49m\n\u001b[32m   1881\u001b[39m \u001b[43m    \u001b[49m\u001b[43mf\u001b[49m\u001b[43m,\u001b[49m\n\u001b[32m   1882\u001b[39m \u001b[43m    \u001b[49m\u001b[43mmode\u001b[49m\u001b[43m,\u001b[49m\n\u001b[32m   1883\u001b[39m \u001b[43m    \u001b[49m\u001b[43mencoding\u001b[49m\u001b[43m=\u001b[49m\u001b[38;5;28;43mself\u001b[39;49m\u001b[43m.\u001b[49m\u001b[43moptions\u001b[49m\u001b[43m.\u001b[49m\u001b[43mget\u001b[49m\u001b[43m(\u001b[49m\u001b[33;43m\"\u001b[39;49m\u001b[33;43mencoding\u001b[39;49m\u001b[33;43m\"\u001b[39;49m\u001b[43m,\u001b[49m\u001b[43m \u001b[49m\u001b[38;5;28;43;01mNone\u001b[39;49;00m\u001b[43m)\u001b[49m\u001b[43m,\u001b[49m\n\u001b[32m   1884\u001b[39m \u001b[43m    \u001b[49m\u001b[43mcompression\u001b[49m\u001b[43m=\u001b[49m\u001b[38;5;28;43mself\u001b[39;49m\u001b[43m.\u001b[49m\u001b[43moptions\u001b[49m\u001b[43m.\u001b[49m\u001b[43mget\u001b[49m\u001b[43m(\u001b[49m\u001b[33;43m\"\u001b[39;49m\u001b[33;43mcompression\u001b[39;49m\u001b[33;43m\"\u001b[39;49m\u001b[43m,\u001b[49m\u001b[43m \u001b[49m\u001b[38;5;28;43;01mNone\u001b[39;49;00m\u001b[43m)\u001b[49m\u001b[43m,\u001b[49m\n\u001b[32m   1885\u001b[39m \u001b[43m    \u001b[49m\u001b[43mmemory_map\u001b[49m\u001b[43m=\u001b[49m\u001b[38;5;28;43mself\u001b[39;49m\u001b[43m.\u001b[49m\u001b[43moptions\u001b[49m\u001b[43m.\u001b[49m\u001b[43mget\u001b[49m\u001b[43m(\u001b[49m\u001b[33;43m\"\u001b[39;49m\u001b[33;43mmemory_map\u001b[39;49m\u001b[33;43m\"\u001b[39;49m\u001b[43m,\u001b[49m\u001b[43m \u001b[49m\u001b[38;5;28;43;01mFalse\u001b[39;49;00m\u001b[43m)\u001b[49m\u001b[43m,\u001b[49m\n\u001b[32m   1886\u001b[39m \u001b[43m    \u001b[49m\u001b[43mis_text\u001b[49m\u001b[43m=\u001b[49m\u001b[43mis_text\u001b[49m\u001b[43m,\u001b[49m\n\u001b[32m   1887\u001b[39m \u001b[43m    \u001b[49m\u001b[43merrors\u001b[49m\u001b[43m=\u001b[49m\u001b[38;5;28;43mself\u001b[39;49m\u001b[43m.\u001b[49m\u001b[43moptions\u001b[49m\u001b[43m.\u001b[49m\u001b[43mget\u001b[49m\u001b[43m(\u001b[49m\u001b[33;43m\"\u001b[39;49m\u001b[33;43mencoding_errors\u001b[39;49m\u001b[33;43m\"\u001b[39;49m\u001b[43m,\u001b[49m\u001b[43m \u001b[49m\u001b[33;43m\"\u001b[39;49m\u001b[33;43mstrict\u001b[39;49m\u001b[33;43m\"\u001b[39;49m\u001b[43m)\u001b[49m\u001b[43m,\u001b[49m\n\u001b[32m   1888\u001b[39m \u001b[43m    \u001b[49m\u001b[43mstorage_options\u001b[49m\u001b[43m=\u001b[49m\u001b[38;5;28;43mself\u001b[39;49m\u001b[43m.\u001b[49m\u001b[43moptions\u001b[49m\u001b[43m.\u001b[49m\u001b[43mget\u001b[49m\u001b[43m(\u001b[49m\u001b[33;43m\"\u001b[39;49m\u001b[33;43mstorage_options\u001b[39;49m\u001b[33;43m\"\u001b[39;49m\u001b[43m,\u001b[49m\u001b[43m \u001b[49m\u001b[38;5;28;43;01mNone\u001b[39;49;00m\u001b[43m)\u001b[49m\u001b[43m,\u001b[49m\n\u001b[32m   1889\u001b[39m \u001b[43m\u001b[49m\u001b[43m)\u001b[49m\n\u001b[32m   1890\u001b[39m \u001b[38;5;28;01massert\u001b[39;00m \u001b[38;5;28mself\u001b[39m.handles \u001b[38;5;129;01mis\u001b[39;00m \u001b[38;5;129;01mnot\u001b[39;00m \u001b[38;5;28;01mNone\u001b[39;00m\n\u001b[32m   1891\u001b[39m f = \u001b[38;5;28mself\u001b[39m.handles.handle\n",
      "\u001b[36mFile \u001b[39m\u001b[32m~/Projet_TER/-Interactive-Emergency-Response-Dashboard-Haute-Garonne-Mike/-Interactive-Emergency-Response-Dashboard-Haute-Garonne-Mike/.venv/lib/python3.13/site-packages/pandas/io/common.py:873\u001b[39m, in \u001b[36mget_handle\u001b[39m\u001b[34m(path_or_buf, mode, encoding, compression, memory_map, is_text, errors, storage_options)\u001b[39m\n\u001b[32m    868\u001b[39m \u001b[38;5;28;01melif\u001b[39;00m \u001b[38;5;28misinstance\u001b[39m(handle, \u001b[38;5;28mstr\u001b[39m):\n\u001b[32m    869\u001b[39m     \u001b[38;5;66;03m# Check whether the filename is to be opened in binary mode.\u001b[39;00m\n\u001b[32m    870\u001b[39m     \u001b[38;5;66;03m# Binary mode does not support 'encoding' and 'newline'.\u001b[39;00m\n\u001b[32m    871\u001b[39m     \u001b[38;5;28;01mif\u001b[39;00m ioargs.encoding \u001b[38;5;129;01mand\u001b[39;00m \u001b[33m\"\u001b[39m\u001b[33mb\u001b[39m\u001b[33m\"\u001b[39m \u001b[38;5;129;01mnot\u001b[39;00m \u001b[38;5;129;01min\u001b[39;00m ioargs.mode:\n\u001b[32m    872\u001b[39m         \u001b[38;5;66;03m# Encoding\u001b[39;00m\n\u001b[32m--> \u001b[39m\u001b[32m873\u001b[39m         handle = \u001b[38;5;28;43mopen\u001b[39;49m\u001b[43m(\u001b[49m\n\u001b[32m    874\u001b[39m \u001b[43m            \u001b[49m\u001b[43mhandle\u001b[49m\u001b[43m,\u001b[49m\n\u001b[32m    875\u001b[39m \u001b[43m            \u001b[49m\u001b[43mioargs\u001b[49m\u001b[43m.\u001b[49m\u001b[43mmode\u001b[49m\u001b[43m,\u001b[49m\n\u001b[32m    876\u001b[39m \u001b[43m            \u001b[49m\u001b[43mencoding\u001b[49m\u001b[43m=\u001b[49m\u001b[43mioargs\u001b[49m\u001b[43m.\u001b[49m\u001b[43mencoding\u001b[49m\u001b[43m,\u001b[49m\n\u001b[32m    877\u001b[39m \u001b[43m            \u001b[49m\u001b[43merrors\u001b[49m\u001b[43m=\u001b[49m\u001b[43merrors\u001b[49m\u001b[43m,\u001b[49m\n\u001b[32m    878\u001b[39m \u001b[43m            \u001b[49m\u001b[43mnewline\u001b[49m\u001b[43m=\u001b[49m\u001b[33;43m\"\u001b[39;49m\u001b[33;43m\"\u001b[39;49m\u001b[43m,\u001b[49m\n\u001b[32m    879\u001b[39m \u001b[43m        \u001b[49m\u001b[43m)\u001b[49m\n\u001b[32m    880\u001b[39m     \u001b[38;5;28;01melse\u001b[39;00m:\n\u001b[32m    881\u001b[39m         \u001b[38;5;66;03m# Binary mode\u001b[39;00m\n\u001b[32m    882\u001b[39m         handle = \u001b[38;5;28mopen\u001b[39m(handle, ioargs.mode)\n",
      "\u001b[31mFileNotFoundError\u001b[39m: [Errno 2] No such file or directory: 'sorties_2018.csv'"
     ]
    },
    {
     "name": "stdout",
     "output_type": "stream",
     "text": [
      "CPU times: user 426 ms, sys: 30.4 ms, total: 457 ms\n",
      "Wall time: 525 ms\n"
     ]
    }
   ],
   "source": [
    "%%time\n",
    "\n",
    "%run generate_environment.py --sample_list df_fake_0.pkl df_fake_1.pkl df_fake_2.pkl df_fake_3.pkl df_fake_4.pkl df_fake_5.pkl df_fake_6.pkl df_fake_7.pkl df_fake_8.pkl df_fake_9.pkl --save_as \"df_pc_fake_10y.pkl\""
   ]
  },
  {
   "cell_type": "markdown",
   "id": "a48da321-09df-41e4-bd20-7fcd33c41dfd",
   "metadata": {},
   "source": [
    "# Generate metrics"
   ]
  },
  {
   "cell_type": "code",
   "execution_count": 6,
   "id": "279de376-a88a-4b09-b188-06a5d3c2a39d",
   "metadata": {},
   "outputs": [],
   "source": [
    "dic_tarif_zero = {'v_sent': 0,\n",
    "                  'v_sent_full': 0,\n",
    "            'v_degraded':0,\n",
    "            'cancelled':0, #cancel departure\n",
    "            'function_not_found':0,\n",
    "            'v1_not_sent_from_1st_station':0,\n",
    "            'v_not_found_in_last_station':0,\n",
    "            # 'ff_sent':0,\n",
    "            # 'ff_skill_mean':0,\n",
    "            'z1_sent': 0,\n",
    "            'skill_lvl':0\n",
    "            }"
   ]
  },
  {
   "cell_type": "code",
   "execution_count": 7,
   "id": "3262fa19-4cf5-4af2-afe4-7d8974b88aa3",
   "metadata": {},
   "outputs": [],
   "source": [
    "os.chdir('./Reward_weights')\n",
    "#os.chdir('./Reward_weights')\n",
    "\n",
    "metrics = list(dic_tarif_zero.keys())\n",
    "\n",
    "suffix = \"r100_cf3\"\n",
    "\n",
    "for m in metrics:\n",
    "    \n",
    "    dic_tarif = dic_tarif_zero.copy()\n",
    "    if m in ['v_sent', 'v_sent_full', 'skill_lvl']:\n",
    "        dic_tarif[m] = 100\n",
    "    else:\n",
    "        dic_tarif[m] = -100\n",
    "        # dic_tarif[\"v_sent_full\"] = 5\n",
    "\n",
    "    with open(f\"rw_{m}_{suffix}.json\", \"w\") as f:\n",
    "        json.dump(dic_tarif, f)\n",
    "\n",
    "os.chdir(\"../\")"
   ]
  },
  {
   "cell_type": "code",
   "execution_count": 8,
   "id": "be3961a4-5868-4b64-869c-4c9c64582c47",
   "metadata": {},
   "outputs": [
    {
     "data": {
      "text/plain": [
       "{'v_sent': 0,\n",
       " 'v_sent_full': 0,\n",
       " 'v_degraded': 0,\n",
       " 'cancelled': 0,\n",
       " 'function_not_found': 0,\n",
       " 'v1_not_sent_from_1st_station': 0,\n",
       " 'v_not_found_in_last_station': 0,\n",
       " 'z1_sent': 0,\n",
       " 'skill_lvl': 100}"
      ]
     },
     "execution_count": 8,
     "metadata": {},
     "output_type": "execute_result"
    }
   ],
   "source": [
    "os.chdir('./Reward_weights')\n",
    "\n",
    "with open(f\"rw_skill_lvl_{suffix}.json\", \"r\") as f:\n",
    "    d = json.load(f)\n",
    "os.chdir(\"../\")\n",
    "d"
   ]
  },
  {
   "cell_type": "markdown",
   "id": "6e445a53-f006-44dd-b988-6c08f3196786",
   "metadata": {},
   "source": [
    "# Simulation"
   ]
  },
  {
   "cell_type": "code",
   "execution_count": 9,
   "id": "17b09f53-c52a-4b66-b2ea-e5ac0f6c3d94",
   "metadata": {},
   "outputs": [
    {
     "name": "stdout",
     "output_type": "stream",
     "text": [
      "49500 v_out: 28 rwd_mean: 0.00 per ff: -0.18 act: 257768 per act.: -0.12414 v_not_found_ls: 384 deg: 1008 z1_sent: 2893\n",
      "49600 v_out: 13 rwd_mean: 0.00 per ff: -0.18 act: 258286 per act.: -0.12389 v_not_found_ls: 384 deg: 1010 z1_sent: 2895\n",
      "49700 v_out: 3 rwd_mean: 0.00 per ff: -0.17 act: 258831 per act.: -0.12363 v_not_found_ls: 385 deg: 1011 z1_sent: 2900\n",
      "49800 v_out: 14 rwd_mean: 0.00 per ff: -0.17 act: 259491 per act.: -0.12332 v_not_found_ls: 385 deg: 1018 z1_sent: 2901\n",
      "49900 v_out: 11 rwd_mean: 0.00 per ff: -0.17 act: 259935 per act.: -0.12311 v_not_found_ls: 385 deg: 1018 z1_sent: 2901\n",
      "50000 v_out: 2 rwd_mean: 0.00 per ff: -0.17 act: 260550 per act.: -0.12282 v_not_found_ls: 385 deg: 1019 z1_sent: 2901\n",
      "50100 v_out: 9 rwd_mean: 0.00 per ff: -0.17 act: 261026 per act.: -0.12336 v_not_found_ls: 386 deg: 1019 z1_sent: 2906\n",
      "50200 v_out: 3 rwd_mean: 0.00 per ff: -0.17 act: 261481 per act.: -0.12314 v_not_found_ls: 386 deg: 1019 z1_sent: 2906\n",
      "50300 v_out: 14 rwd_mean: 0.00 per ff: -0.17 act: 262102 per act.: -0.12323 v_not_found_ls: 387 deg: 1024 z1_sent: 2908\n",
      "50400 v_out: 3 rwd_mean: 0.00 per ff: -0.17 act: 262536 per act.: -0.12303 v_not_found_ls: 387 deg: 1024 z1_sent: 2908\n",
      "50500 v_out: 18 rwd_mean: 0.00 per ff: -0.17 act: 263349 per act.: -0.12303 v_not_found_ls: 388 deg: 1033 z1_sent: 2913\n",
      "50600 v_out: 7 rwd_mean: 0.00 per ff: -0.17 act: 263901 per act.: -0.12277 v_not_found_ls: 388 deg: 1036 z1_sent: 2915\n",
      "50700 v_out: 14 rwd_mean: 0.00 per ff: -0.17 act: 264481 per act.: -0.12250 v_not_found_ls: 388 deg: 1039 z1_sent: 2919\n",
      "50800 v_out: 7 rwd_mean: 0.00 per ff: -0.17 act: 264974 per act.: -0.12265 v_not_found_ls: 388 deg: 1044 z1_sent: 2925\n",
      "50900 v_out: 11 rwd_mean: 0.00 per ff: -0.17 act: 265483 per act.: -0.12280 v_not_found_ls: 388 deg: 1044 z1_sent: 2933\n",
      "51000 v_out: 14 rwd_mean: 0.00 per ff: -0.17 act: 266036 per act.: -0.12254 v_not_found_ls: 388 deg: 1044 z1_sent: 2938\n",
      "51100 v_out: 5 rwd_mean: 0.00 per ff: -0.17 act: 266568 per act.: -0.12230 v_not_found_ls: 388 deg: 1045 z1_sent: 2940\n",
      "51200 v_out: 7 rwd_mean: 0.00 per ff: -0.17 act: 267128 per act.: -0.12204 v_not_found_ls: 388 deg: 1052 z1_sent: 2944\n",
      "51300 v_out: 16 rwd_mean: 0.00 per ff: -0.17 act: 267737 per act.: -0.12251 v_not_found_ls: 388 deg: 1053 z1_sent: 2952\n",
      "51400 v_out: 2 rwd_mean: 0.00 per ff: -0.17 act: 268218 per act.: -0.12303 v_not_found_ls: 388 deg: 1054 z1_sent: 2957\n",
      "51500 v_out: 19 rwd_mean: 0.00 per ff: -0.17 act: 268799 per act.: -0.12277 v_not_found_ls: 389 deg: 1058 z1_sent: 2960\n",
      "51600 v_out: 9 rwd_mean: 0.00 per ff: -0.17 act: 269323 per act.: -0.12290 v_not_found_ls: 390 deg: 1063 z1_sent: 2964\n",
      "51700 v_out: 24 rwd_mean: 0.00 per ff: -0.17 act: 269945 per act.: -0.12262 v_not_found_ls: 393 deg: 1065 z1_sent: 2972\n",
      "51800 v_out: 17 rwd_mean: 0.00 per ff: -0.17 act: 270700 per act.: -0.12228 v_not_found_ls: 396 deg: 1072 z1_sent: 2975\n",
      "51900 v_out: 11 rwd_mean: -1.00 per ff: -0.17 act: 271210 per act.: -0.12241 v_not_found_ls: 398 deg: 1072 z1_sent: 2978\n",
      "52000 v_out: 10 rwd_mean: 0.00 per ff: -0.17 act: 271728 per act.: -0.12218 v_not_found_ls: 398 deg: 1073 z1_sent: 2983\n",
      "52100 v_out: 22 rwd_mean: 0.00 per ff: -0.17 act: 272338 per act.: -0.12191 v_not_found_ls: 398 deg: 1074 z1_sent: 2983\n",
      "52200 v_out: 11 rwd_mean: -1.00 per ff: -0.17 act: 272828 per act.: -0.12205 v_not_found_ls: 398 deg: 1076 z1_sent: 2985\n",
      "52300 v_out: 8 rwd_mean: 0.00 per ff: -0.17 act: 273282 per act.: -0.12185 v_not_found_ls: 398 deg: 1077 z1_sent: 2990\n",
      "52400 v_out: 2 rwd_mean: 0.00 per ff: -0.17 act: 273753 per act.: -0.12164 v_not_found_ls: 398 deg: 1077 z1_sent: 2995\n",
      "52500 v_out: 7 rwd_mean: 0.00 per ff: -0.17 act: 274368 per act.: -0.12137 v_not_found_ls: 398 deg: 1079 z1_sent: 2995\n",
      "52600 v_out: 2 rwd_mean: 0.00 per ff: -0.17 act: 274945 per act.: -0.12112 v_not_found_ls: 399 deg: 1080 z1_sent: 3003\n",
      "52700 v_out: 3 rwd_mean: 0.00 per ff: -0.17 act: 275434 per act.: -0.12126 v_not_found_ls: 399 deg: 1081 z1_sent: 3007\n",
      "52800 v_out: 11 rwd_mean: 0.00 per ff: -0.17 act: 275983 per act.: -0.12102 v_not_found_ls: 399 deg: 1081 z1_sent: 3013\n",
      "52900 v_out: 9 rwd_mean: 0.00 per ff: -0.17 act: 276412 per act.: -0.12120 v_not_found_ls: 399 deg: 1081 z1_sent: 3019\n",
      "53000 v_out: 19 rwd_mean: -1.00 per ff: -0.17 act: 277143 per act.: -0.12160 v_not_found_ls: 399 deg: 1088 z1_sent: 3025\n",
      "Simulation done\n"
     ]
    }
   ],
   "source": [
    "from IPython.display import clear_output\n",
    "\n",
    "m = 'z1_sent'\n",
    "suffix = \"r100_cf3\"\n",
    "\n",
    "cmd = [\n",
    "    \"python3\", \"-u\", \"simulation_start.py\",\n",
    "    \"--reward_weights\", f\"rw_{m}_{suffix}.json\",\n",
    "    \"--dataset\", \"df_pc_real.pkl\",\n",
    "    \"--start\", \"1\",\n",
    "    \"--end\", \"53088\",\n",
    "    \"--constraint_factor_veh\", \"3\",\n",
    "    \"--constraint_factor_ff\", \"1\",\n",
    "    \"--save_metrics_as\", f\"sim_metrics_{m}_{suffix}\",\n",
    "    \"--is_best\"\n",
    "]\n",
    "\n",
    "process = subprocess.Popen(\n",
    "    cmd,\n",
    "    stdout=subprocess.PIPE,\n",
    "    stderr=subprocess.STDOUT,\n",
    "    text=True,\n",
    "    bufsize=1\n",
    ")\n",
    "\n",
    "line_count = 0\n",
    "for line in process.stdout:\n",
    "    line_count += 1\n",
    "    if line_count % 50 == 0:\n",
    "        clear_output(wait=True)\n",
    "\n",
    "    print(line.strip())"
   ]
  },
  {
   "cell_type": "markdown",
   "id": "f42062e6-6f3d-491b-8bb6-0b292aaa8ee9",
   "metadata": {},
   "source": [
    "# Agent params"
   ]
  },
  {
   "cell_type": "code",
   "execution_count": 10,
   "id": "23ca2626-2379-4a64-91e9-e42d0189a1b9",
   "metadata": {},
   "outputs": [],
   "source": [
    "action_size = 80\n",
    "train_seed = 41\n",
    "\n",
    "os.chdir(\"./Data\")\n",
    "\n",
    "\n",
    "hyper_params = {\"state_size\" : (action_size + 2) *40,\n",
    "                \"action_size\" : action_size,\n",
    "                \"layer_type\" : \"ff\", # noisy else ff\n",
    "                \"layer_size\" : 1024,\n",
    "                \"num_layers\" : 8,\n",
    "                \"use_batchnorm\" : True,\n",
    "                \"n_steps\" : 3, #5, 1, 50, 64\n",
    "                \"batch_size\" : 256, #512, 256, 64, 32, 16, 8\n",
    "                \"buffer_size\" : 200000, #100000, 128, 5000, 10000, 65 buffer_size > batch_size\n",
    "\n",
    "                \"update_every\" : 32, #1, 200, 500, 64, 32 Q updates\n",
    "                \"per\" : 1, # 0 for curiosity > 0, else 1, 2\n",
    "                \"rdm\" : 0, # only if not per\n",
    "                \"munchausen\" : 1, #1\n",
    "                \"curiosity\" : 0, #Adds intrinsic curiosity to the extrinsic reward. 0 - only reward/ no curiosity, \n",
    "                                                                                    #1 - reward and curiosity, \n",
    "                                                                                    #2 - only curiosity\n",
    "                \"curiosity_size\" : 1024,\n",
    "                \"lr\" : 1e-3, #1e-3, 5e-4, 5e-3\n",
    "                \"lr_dec\" : 1, #0, 1, 2, 3\n",
    "                \"entropy_tau\" : 0.03, #0.03, 0.05 idem #-  Munch param\n",
    "                \"entropy_tau_coeff\" : 1e-2, #1e-2 #-  Munch param\n",
    "                \"lo\" : -1, #-  Munch param\n",
    "                \"alpha\" : 0.9, #-  Munch param\n",
    "                \"gamma\" : 0.99,\n",
    "                \"tau\" : 0.005, #1e-2, 5e-3\n",
    "                \"N\" : 32,# Number of quantiles 32, 64\n",
    "                \"entropy_coeff\" : 0.001,\n",
    "                \"device\" : str(device),\n",
    "                \"seed\" : train_seed}\n",
    "\n",
    "\n",
    "json.dump(hyper_params, open(\"hyper_params.json\", \"w\"))\n",
    "\n",
    "os.chdir(\"../\")"
   ]
  },
  {
   "cell_type": "code",
   "execution_count": 11,
   "id": "7f06a390-a460-47b8-8db2-02fb5d9d00a8",
   "metadata": {},
   "outputs": [
    {
     "name": "stdout",
     "output_type": "stream",
     "text": [
      "528500 v_out: 3 rwd_mean: 0.00 per ff: -0.03 act: 2944936 per act.: -0.02326 v_not_found_ls: 5211 deg: 27795 z1_sent: 4448 eps: 0.12 lr: 0.00000\n",
      "528600 v_out: 24 rwd_mean: 0.00 per ff: -0.03 act: 2945572 per act.: -0.02326 v_not_found_ls: 5211 deg: 27803 z1_sent: 4448 eps: 0.12 lr: 0.00000\n",
      "528700 v_out: 16 rwd_mean: 0.00 per ff: -0.03 act: 2946167 per act.: -0.02325 v_not_found_ls: 5212 deg: 27806 z1_sent: 4448 eps: 0.12 lr: 0.00000\n",
      "528800 v_out: 10 rwd_mean: 0.00 per ff: -0.03 act: 2946798 per act.: -0.02325 v_not_found_ls: 5214 deg: 27808 z1_sent: 4448 eps: 0.12 lr: 0.00000\n",
      "step 2947456 current lr : 6.346455595343308e-07\n",
      "528900 v_out: 17 rwd_mean: 0.00 per ff: -0.03 act: 2947613 per act.: -0.02324 v_not_found_ls: 5216 deg: 27826 z1_sent: 4448 eps: 0.12 lr: 0.00000\n",
      "529000 v_out: 15 rwd_mean: 0.00 per ff: -0.03 act: 2948322 per act.: -0.02323 v_not_found_ls: 5217 deg: 27843 z1_sent: 4448 eps: 0.12 lr: 0.00000\n",
      "529100 v_out: 4 rwd_mean: 0.00 per ff: -0.03 act: 2948855 per act.: -0.02323 v_not_found_ls: 5217 deg: 27855 z1_sent: 4448 eps: 0.12 lr: 0.00000\n",
      "529200 v_out: 14 rwd_mean: 0.00 per ff: -0.03 act: 2949606 per act.: -0.02322 v_not_found_ls: 5217 deg: 27868 z1_sent: 4448 eps: 0.12 lr: 0.00000\n",
      "529300 v_out: 9 rwd_mean: 0.00 per ff: -0.03 act: 2950135 per act.: -0.02322 v_not_found_ls: 5217 deg: 27872 z1_sent: 4448 eps: 0.12 lr: 0.00000\n",
      "step 2950656 current lr : -4.5034744263765963e-07\n",
      "529400 v_out: 21 rwd_mean: 0.00 per ff: -0.03 act: 2950760 per act.: -0.02321 v_not_found_ls: 5218 deg: 27883 z1_sent: 4448 eps: 0.12 lr: -0.00000\n",
      "529500 v_out: 9 rwd_mean: 0.00 per ff: -0.03 act: 2951337 per act.: -0.02321 v_not_found_ls: 5219 deg: 27890 z1_sent: 4448 eps: 0.12 lr: -0.00000\n",
      "529600 v_out: 17 rwd_mean: 0.00 per ff: -0.03 act: 2951969 per act.: -0.02320 v_not_found_ls: 5220 deg: 27901 z1_sent: 4448 eps: 0.12 lr: -0.00000\n",
      "529700 v_out: 6 rwd_mean: 0.00 per ff: -0.03 act: 2952525 per act.: -0.02320 v_not_found_ls: 5220 deg: 27902 z1_sent: 4448 eps: 0.12 lr: -0.00000\n",
      "529800 v_out: 6 rwd_mean: 0.00 per ff: -0.03 act: 2953318 per act.: -0.02319 v_not_found_ls: 5224 deg: 27907 z1_sent: 4448 eps: 0.12 lr: -0.00000\n",
      "step 2953856 current lr : -1.5353404448094604e-06\n",
      "529900 v_out: 20 rwd_mean: 0.00 per ff: -0.03 act: 2953939 per act.: -0.02319 v_not_found_ls: 5226 deg: 27913 z1_sent: 4448 eps: 0.12 lr: -0.00000\n",
      "530000 v_out: 15 rwd_mean: 0.00 per ff: -0.03 act: 2954623 per act.: -0.02318 v_not_found_ls: 5229 deg: 27924 z1_sent: 4448 eps: 0.12 lr: -0.00000\n",
      "530000 Agent saved as agent_z1_sent_r100_cf3\n",
      "530100 v_out: 9 rwd_mean: 0.00 per ff: -0.03 act: 2955505 per act.: -0.02318 v_not_found_ls: 5235 deg: 27931 z1_sent: 4448 eps: 0.12 lr: -0.00000\n",
      "530200 v_out: 14 rwd_mean: 0.00 per ff: -0.03 act: 2956153 per act.: -0.02317 v_not_found_ls: 5237 deg: 27933 z1_sent: 4448 eps: 0.12 lr: -0.00000\n",
      "530300 v_out: 18 rwd_mean: 0.00 per ff: -0.03 act: 2956742 per act.: -0.02317 v_not_found_ls: 5237 deg: 27938 z1_sent: 4448 eps: 0.12 lr: -0.00000\n",
      "step 2957056 current lr : -2.6203334469812476e-06\n",
      "530400 v_out: 10 rwd_mean: 0.00 per ff: -0.03 act: 2957366 per act.: -0.02316 v_not_found_ls: 5237 deg: 27947 z1_sent: 4448 eps: 0.12 lr: -0.00000\n",
      "530500 v_out: 4 rwd_mean: 0.00 per ff: -0.03 act: 2958144 per act.: -0.02316 v_not_found_ls: 5245 deg: 27961 z1_sent: 4448 eps: 0.12 lr: -0.00000\n",
      "530600 v_out: 10 rwd_mean: 0.00 per ff: -0.03 act: 2958681 per act.: -0.02315 v_not_found_ls: 5245 deg: 27961 z1_sent: 4448 eps: 0.12 lr: -0.00000\n",
      "530700 v_out: 14 rwd_mean: 0.00 per ff: -0.03 act: 2959264 per act.: -0.02315 v_not_found_ls: 5245 deg: 27966 z1_sent: 4448 eps: 0.12 lr: -0.00000\n",
      "530800 v_out: 2 rwd_mean: 0.00 per ff: -0.03 act: 2959857 per act.: -0.02314 v_not_found_ls: 5245 deg: 27969 z1_sent: 4448 eps: 0.12 lr: -0.00000\n",
      "step 2960256 current lr : -3.7053264491532516e-06\n",
      "Agent saved as agent_z1_sent_r100_cf3\n",
      "\n"
     ]
    }
   ],
   "source": [
    "m = 'z1_sent'\n",
    "suffix = \"r100_cf3\"\n",
    "\n",
    "cmd = [\n",
    "    \"python3\", \"-u\", \"agent_run.py\",\n",
    "    \"--model_name\", f\"agent_{m}_{suffix}\",\n",
    "    \"--hyper_params\", \"hyper_params.json\",\n",
    "    \"--reward_weights\", f\"rw_{m}_{suffix}.json\",\n",
    "    \"--dataset\", \"df_pc_fake_10y.pkl\",\n",
    "    \"--start\", \"1\",\n",
    "    \"--end\", \"530880\",\n",
    "    \"--constraint_factor_veh\", \"3\",\n",
    "    \"--constraint_factor_ff\", \"1\",\n",
    "    \"--save_metrics_as\", f\"agent_metrics_{m}_{suffix}\",\n",
    "    \"--train\"\n",
    "]\n",
    "\n",
    "process = subprocess.Popen(\n",
    "    cmd,\n",
    "    stdout=subprocess.PIPE,\n",
    "    stderr=subprocess.STDOUT,\n",
    "    text=True,\n",
    "    bufsize=1\n",
    ")\n",
    "\n",
    "line_count = 0\n",
    "for line in process.stdout:\n",
    "    line_count += 1\n",
    "    if line_count % 100 == 0:\n",
    "        clear_output(wait=True)\n",
    "\n",
    "    print(line.strip())"
   ]
  }
 ],
 "metadata": {
  "kernelspec": {
   "display_name": ".venv",
   "language": "python",
   "name": "python3"
  },
  "language_info": {
   "codemirror_mode": {
    "name": "ipython",
    "version": 3
   },
   "file_extension": ".py",
   "mimetype": "text/x-python",
   "name": "python",
   "nbconvert_exporter": "python",
   "pygments_lexer": "ipython3",
   "version": "3.13.3"
  }
 },
 "nbformat": 4,
 "nbformat_minor": 5
}
