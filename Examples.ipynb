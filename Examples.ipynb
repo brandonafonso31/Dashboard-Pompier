{
 "cells": [
  {
   "cell_type": "code",
   "execution_count": 1,
   "id": "d0a4286b-83a4-4f81-b9b1-aecfb71130a6",
   "metadata": {},
   "outputs": [
    {
     "name": "stdout",
     "output_type": "stream",
     "text": [
      "device is cuda\n"
     ]
    }
   ],
   "source": [
    "import pandas as pd\n",
    "import numpy as np\n",
    "import json\n",
    "import os\n",
    "from collections import defaultdict, deque\n",
    "import pickle\n",
    "from IPython import get_ipython\n",
    "from tqdm.auto import tqdm\n",
    "import gc\n",
    "import subprocess\n",
    "from IPython.display import clear_output\n",
    "import matplotlib.pyplot as plt\n",
    "import wandb\n",
    "\n",
    "os.environ[\"CUDA_LAUNCH_BLOCKING\"] = \"1\"\n",
    "os.environ[\"CUDA_VISIBLE_DEVICES\"] = \"0\"\n",
    "\n",
    "import torch \n",
    "device = torch.device(\"cuda\" if torch.cuda.is_available() else \"cpu\")\n",
    "print(\"device is\", device)"
   ]
  },
  {
   "cell_type": "markdown",
   "id": "ddb3a3c9-ea32-4be0-a174-491e77646798",
   "metadata": {},
   "source": [
    "# Train"
   ]
  },
  {
   "cell_type": "code",
   "execution_count": 11,
   "id": "f9ec22b4-f6ae-4a71-96d2-fdbd39ea1ee4",
   "metadata": {},
   "outputs": [
    {
     "name": "stdout",
     "output_type": "stream",
     "text": [
      "Index(['Month_sin', 'Month_cos', 'Hour_sin', 'Hour_cos', 'Day_sin', 'Day_cos',\n",
      "       'Coord X', 'Coord Y', 'Duration', 'Incident', 'Month', 'Day', 'Hour'],\n",
      "      dtype='object')\n",
      "Index(['Month_sin', 'Month_cos', 'Hour_sin', 'Hour_cos', 'Day_sin', 'Day_cos',\n",
      "       'Coord X', 'Coord Y', 'Duration', 'Incident'],\n",
      "      dtype='object')\n",
      "K [0]\n",
      "features 9\n",
      "{'d_in': np.int64(9), 'is_y_cond': True, 'num_classes': 56, 'rtdl_params': {'d_layers': [1024, 1024], 'dropout': 0.0}, 'dim_t': 128}\n",
      "mlp\n",
      "label embedding Embedding(56, 128)\n",
      "diffusion ready\n",
      "Model trained\n"
     ]
    }
   ],
   "source": [
    "%run train.py --lr 0.0025 --layers 1024 --num_timesteps 1000 --is_y_cond --save_as 'dqn_test' "
   ]
  },
  {
   "cell_type": "markdown",
   "id": "10582dc0-d140-4c06-9ebc-cce58564fb1b",
   "metadata": {},
   "source": [
    "# Sample"
   ]
  },
  {
   "cell_type": "code",
   "execution_count": 3,
   "id": "110f9804-231c-4adc-8a8c-ce1e4d8079d7",
   "metadata": {},
   "outputs": [
    {
     "name": "stdout",
     "output_type": "stream",
     "text": [
      "iteration 0\n",
      "os factor: 3 sample batch size: 8192 pressure: 1.2 variability: 0.02\n",
      "[0]\n",
      "features 9\n",
      "{'d_in': np.int64(9), 'is_y_cond': True, 'num_classes': 56, 'rtdl_params': {'d_layers': [1024, 1024], 'dropout': 0.0}, 'dim_t': 128}\n",
      "mlp\n",
      "label embedding Embedding(56, 128)\n",
      "params loaded\n",
      "diffusion ready\n",
      "Index(['area_name', 'count', 'new_samples', 'perc.', 'delta'], dtype='object')\n",
      "new samples OK\n",
      "(63696, 14)\n",
      "Index(['Coord X', 'Coord Y', 'Duration', 'Day', 'Month', 'Hour', 'Incident',\n",
      "'Month_sin', 'Month_cos', 'Day_sin', 'Day_cos', 'Hour_sin', 'Hour_cos',\n",
      "'area_name'],\n",
      "dtype='object')\n",
      "dataset sampled\n",
      "--- df_fake_0_test.pkl done---\n",
      "\n"
     ]
    }
   ],
   "source": [
    "for i in range(1): # génère i datasets\n",
    "    print(\"iteration\", i)\n",
    "    filename = f\"df_fake_{i}_test.pkl\"\n",
    "    \n",
    "    process = subprocess.Popen(\n",
    "        [\"python\", \"sample.py\", \n",
    "         \"--load_as\", 'dqn_test', \n",
    "         \"--save_sample_as\", filename, \n",
    "         \"--os_factor\", \"3\", \n",
    "         \"--pressure\", \"1.2\",\n",
    "         \"--to_keep\", \"40\", \n",
    "         \"--value_span\", \"100\"],\n",
    "        stdout=subprocess.PIPE,\n",
    "        stderr=subprocess.STDOUT,\n",
    "        text=True,\n",
    "        bufsize=1  # pour forcer le flush ligne par ligne\n",
    "    )\n",
    "\n",
    "    # process.wait() # évite le lazy\n",
    "\n",
    "    line_count = 0\n",
    "    stdout_lines = deque(maxlen=5000)\n",
    "    for line in process.stdout:\n",
    "        stdout_lines.append(line)\n",
    "        line_count += 1\n",
    "        if line_count % 100 == 0:\n",
    "            clear_output(wait=True)\n",
    "    \n",
    "        print(line.strip())\n",
    "\n",
    "    print(f\"--- {filename} done---\\n\")"
   ]
  },
  {
   "cell_type": "markdown",
   "id": "d5827859-987d-4ce5-932d-549ca39adb4e",
   "metadata": {},
   "source": [
    "# Generate environment"
   ]
  },
  {
   "cell_type": "code",
   "execution_count": null,
   "id": "8356e36b-ddf6-497f-8ea3-c0b9f0dfdc26",
   "metadata": {},
   "outputs": [],
   "source": [
    "# lister les fichiers samplés à concaténer\n",
    "\n",
    "# df_fake_0.pkl df_fake_1.pkl df_fake_2.pkl df_fake_3.pkl df_fake_4.pkl df_fake_5.pkl df_fake_6.pkl df_fake_7.pkl df_fake_8.pkl df_fake_9.pkl"
   ]
  },
  {
   "cell_type": "code",
   "execution_count": 23,
   "id": "ea0c556d-d421-418d-a921-9c9340eb4cac",
   "metadata": {},
   "outputs": [],
   "source": [
    "os.chdir(\"./Scripts/\")"
   ]
  },
  {
   "cell_type": "code",
   "execution_count": 4,
   "id": "652e1fc1-21be-492f-a751-4b5fe1ebf704",
   "metadata": {},
   "outputs": [
    {
     "name": "stdout",
     "output_type": "stream",
     "text": [
      "is probabilistic departure False\n"
     ]
    },
    {
     "name": "stderr",
     "output_type": "stream",
     "text": [
      "/media/michael/Fichiers/Fac/Thèse 1/Code/Scripts/generate_environment.py:443: DtypeWarning: Columns (7) have mixed types. Specify dtype option on import or set low_memory=False.\n",
      "  df_materiel = pd.read_csv(\"materiel_2018.csv\", sep=\";\")\n",
      "/media/michael/Fichiers/Fac/Thèse 1/Code/Scripts/generate_environment.py:449: DtypeWarning: Columns (22,23,28) have mixed types. Specify dtype option on import or set low_memory=False.\n",
      "  df_lieu = pd.read_csv(\"dbo.LIEU.csv\", sep=\";\")\n"
     ]
    },
    {
     "name": "stdout",
     "output_type": "stream",
     "text": [
      "window real: 53088\n",
      "start_year 2018 start_inter 1 end_inter 53088\n",
      "362 197\n",
      "Day\n",
      "1      219\n",
      "2      133\n",
      "3      154\n",
      "4      165\n",
      "5      126\n",
      "      ... \n",
      "361    106\n",
      "362     86\n",
      "363    130\n",
      "364    131\n",
      "365    138\n",
      "Name: count, Length: 365, dtype: int64\n",
      "real 106176 done\n",
      "window fake: 63696\n",
      "start_year 2018 start_inter 1 end_inter 63696\n",
      "(63696, 18)\n",
      "(63696, 19)\n",
      "1 177\n",
      "Day\n",
      "1      124\n",
      "2      164\n",
      "3      178\n",
      "4      162\n",
      "5      166\n",
      "      ... \n",
      "361    175\n",
      "362    170\n",
      "363    173\n",
      "364    157\n",
      "365    124\n",
      "Name: count, Length: 365, dtype: int64\n",
      "(63696, 21)\n",
      "(127392, 18)\n",
      "df_fake_0_test.pkl 127392 done\n",
      "Index(['num_inter', 'date', 'PDD', 'departure', 'zone', 'Duration', 'Month',\n",
      "       'Day', 'Hour', 'Minute', 'Coord X', 'Coord Y', 'Month_sin', 'Month_cos',\n",
      "       'Day_sin', 'Day_cos', 'Hour_sin', 'Hour_cos'],\n",
      "      dtype='object')\n",
      "global fake done 127392\n",
      "Planning done\n",
      "CPU times: user 3min 54s, sys: 901 ms, total: 3min 55s\n",
      "Wall time: 3min 56s\n"
     ]
    }
   ],
   "source": [
    "%%time\n",
    "\n",
    "%run generate_environment.py --sample_list df_fake_0_test.pkl --save_as \"df_pc_fake_1y_p12_test.pkl\""
   ]
  },
  {
   "cell_type": "markdown",
   "id": "a48da321-09df-41e4-bd20-7fcd33c41dfd",
   "metadata": {},
   "source": [
    "# Metrics"
   ]
  },
  {
   "cell_type": "code",
   "execution_count": 2,
   "id": "279de376-a88a-4b09-b188-06a5d3c2a39d",
   "metadata": {},
   "outputs": [],
   "source": [
    "os.chdir('./Reward_weights')\n",
    "\n",
    "metrics = ['v_degraded', \n",
    "           'v1_not_sent_from_s1', \n",
    "           'v3_not_sent_from_s3', \n",
    "           'v_not_found_in_last_station', \n",
    "           'z1_VSAV_sent', \n",
    "           'rupture_ff',\n",
    "          'VSAV_disp']\n",
    "\n",
    "for m in metrics:\n",
    "\n",
    "    dic_tarif_sent_disp = {'v_required': 0,\n",
    "                    'v_sent': 0,\n",
    "                    'v_sent_full':0,\n",
    "                    'v_degraded':0,\n",
    "                    'cancelled':0, #cancel departure\n",
    "                    'function_not_found':0,\n",
    "                    'v1_not_sent_from_s1':0,\n",
    "                    'v3_not_sent_from_s3':0,\n",
    "                    'v_not_found_in_last_station':0,\n",
    "                    'ff_required':0,\n",
    "                    'ff_sent':0,\n",
    "                    'rupture_ff':0,       \n",
    "                    'z1_VSAV_sent': 0,\n",
    "                    'z1_FPT_sent': 0,\n",
    "                    'z1_EPA_sent': 0,\n",
    "                     'VSAV_needed':0,\n",
    "                     'FPT_needed':0,\n",
    "                     'EPA_needed':0,\n",
    "                     'VSAV_disp':0,\n",
    "                     'FPT_disp':0,\n",
    "                     'EPA_disp':0,\n",
    "                    'skill_lvl':0\n",
    "                    } \n",
    "\n",
    "    dic_tarif_sent_disp[m] = -100\n",
    "\n",
    "    if m == 'v_degraded':\n",
    "        \n",
    "        dic_tarif_sent_disp['v_sent_full'] = 10\n",
    "\n",
    "\n",
    "    with open(f\"rw_\"+ m +\".json\", \"w\") as f:\n",
    "        json.dump(dic_tarif_sent_disp, f)\n",
    "\n",
    "os.chdir(\"../\")"
   ]
  },
  {
   "cell_type": "markdown",
   "id": "6e445a53-f006-44dd-b988-6c08f3196786",
   "metadata": {},
   "source": [
    "# Simulation"
   ]
  },
  {
   "cell_type": "code",
   "execution_count": null,
   "id": "17b09f53-c52a-4b66-b2ea-e5ac0f6c3d94",
   "metadata": {},
   "outputs": [],
   "source": [
    "cmd = [\n",
    "    \"python3\", \"-u\", \"simulation_start.py\",\n",
    "    \"--dataset\", \"df_pc_real.pkl\",\n",
    "    \"--start\", \"1\",\n",
    "    \"--end\", \"53088\",\n",
    "    \"--constraint_factor_veh\", \"3\",\n",
    "    \"--constraint_factor_ff\", \"1\",\n",
    "    \"--is_best\",\n",
    "    \"--save_metrics_as\", f\"sim_sent_disp_bst\"\n",
    "]\n",
    "\n",
    "process = subprocess.Popen(\n",
    "    cmd,\n",
    "    stdout=subprocess.PIPE,\n",
    "    stderr=subprocess.STDOUT,\n",
    "    text=True,\n",
    "    bufsize=1\n",
    ")\n",
    "\n",
    "line_count = 0\n",
    "stdout_lines = deque(maxlen=5000)\n",
    "for line in process.stdout:\n",
    "    stdout_lines.append(line)\n",
    "    line_count += 1\n",
    "    if line_count % 100 == 0:\n",
    "        clear_output(wait=True)\n",
    "\n",
    "    print(line.strip())"
   ]
  },
  {
   "cell_type": "markdown",
   "id": "f42062e6-6f3d-491b-8bb6-0b292aaa8ee9",
   "metadata": {},
   "source": [
    "# Agent params"
   ]
  },
  {
   "cell_type": "code",
   "execution_count": null,
   "id": "23ca2626-2379-4a64-91e9-e42d0189a1b9",
   "metadata": {},
   "outputs": [],
   "source": [
    "action_size = 80\n",
    "train_seed = 41\n",
    "\n",
    "os.chdir(\"./Data\")\n",
    "\n",
    "\n",
    "hyper_params = {\"state_size\" : (action_size + 2) *40,\n",
    "                \"action_size\" : action_size,\n",
    "                \"layer_type\" : \"ff\", # noisy else ff\n",
    "                \"layer_size\" : 1024,\n",
    "                \"num_layers\" : 8,\n",
    "                \"use_batchnorm\" : True,\n",
    "                \"n_steps\" : 20, #5, 1, 50, 64\n",
    "                \"batch_size\" : 256, #512, 256, 64, 32, 16, 8\n",
    "                \"buffer_size\" : 100000, #100000, 128, 5000, 10000, 65 buffer_size > batch_size\n",
    "                \"update_every\" : 32, #1, 200, 500, 64, 32 Q updates\n",
    "                \"per\" : 1, # 0 for curiosity > 0, else 1, 2\n",
    "                \"rdm\" : 0, # only if not per\n",
    "                \"munchausen\" : 1, #1\n",
    "                \"curiosity\" : 0, #Adds intrinsic curiosity to the extrinsic reward. 0 - only reward/ no curiosity, \n",
    "                                                                                    #1 - reward and curiosity, \n",
    "                                                                                    #2 - only curiosity\n",
    "                \"curiosity_size\" : 1024,\n",
    "                \"lr\" : 1e-4, #1e-3, 5e-4, 5e-3, 1e-4\n",
    "                \"lr_dec\" : 1, #0, 1, 2, 3\n",
    "                \"entropy_tau\" : 0.03, #0.03, 0.05 idem #-  Munch param\n",
    "                \"entropy_tau_coeff\" : 1e-2, #1e-2 #-  Munch param\n",
    "                \"lo\" : -1, #-  Munch param\n",
    "                \"alpha\" : 0.9, #-  Munch param\n",
    "                \"gamma\" : 0.99,\n",
    "                \"tau\" : 0.005, #1e-2, 5e-3\n",
    "                \"N\" : 32,# Number of quantiles 32, 64\n",
    "                \"entropy_coeff\" : 0.001,\n",
    "                \"decay_update\" : 100,\n",
    "                \"device\" : str(device),\n",
    "                \"seed\" : train_seed}\n",
    "\n",
    "\n",
    "json.dump(hyper_params, open(\"hyper_params.json\", \"w\"))\n",
    "\n",
    "os.chdir(\"../\")"
   ]
  },
  {
   "cell_type": "markdown",
   "id": "65f3d281-6f9e-4148-8aa5-71d35e5e532a",
   "metadata": {},
   "source": [
    "# Agent model"
   ]
  },
  {
   "cell_type": "code",
   "execution_count": null,
   "id": "7f06a390-a460-47b8-8db2-02fb5d9d00a8",
   "metadata": {},
   "outputs": [],
   "source": [
    "model = \"fqf\"\n",
    "years = \"10y\"\n",
    "\n",
    "cmd = [\n",
    "    \"python3\", \"-u\", \"agent_run.py\",\n",
    "    \"--model_name\", f\"agent_{model}_{years}\",\n",
    "    \"--agent_model\", model,\n",
    "    \"--hyper_params\", \"hyper_params.json\",\n",
    "    \"--reward_weights\", f\"rw_sent_disp.json\",\n",
    "    \"--dataset\", f\"df_pc_fake_{years}.pkl\",\n",
    "    \"--start\", \"1\",\n",
    "    \"--end\", \"530880\",\n",
    "    \"--eps_start\", \"1\",\n",
    "    \"--constraint_factor_veh\", \"3\",\n",
    "    \"--constraint_factor_ff\", \"1\",\n",
    "    \"--save_metrics_as\", f\"agent_metrics_{model}_{years}\",\n",
    "    \"--train\",\n",
    "\n",
    "]\n",
    "# \"--load\"\n",
    "\n",
    "process = subprocess.Popen(\n",
    "    cmd,\n",
    "    stdout=subprocess.PIPE,\n",
    "    stderr=subprocess.STDOUT,\n",
    "    text=True,\n",
    "    bufsize=1\n",
    ")\n",
    "\n",
    "line_count = 0\n",
    "stdout_lines = deque(maxlen=5000)\n",
    "for line in process.stdout:\n",
    "    stdout_lines.append(line)\n",
    "    line_count += 1\n",
    "    if line_count % 100 == 0:\n",
    "        clear_output(wait=True)\n",
    "\n",
    "    print(line.strip())"
   ]
  },
  {
   "cell_type": "markdown",
   "id": "1f6c47df-e9cf-4de8-90bc-f3caafd1978f",
   "metadata": {},
   "source": [
    "# Stats"
   ]
  },
  {
   "cell_type": "code",
   "execution_count": null,
   "id": "240d1dbb-e6e9-4ac1-b22d-ab3671bbb825",
   "metadata": {},
   "outputs": [],
   "source": [
    "folder_path = \"./Plots\"\n",
    "\n",
    "data = {}\n",
    "\n",
    "for file_name in os.listdir(folder_path):\n",
    "    if file_name.endswith(\".pkl\"):\n",
    "        full_path = os.path.join(folder_path, file_name)\n",
    "        with open(full_path, \"rb\") as f:\n",
    "            d = pickle.load(f)\n",
    "            name = os.path.splitext(file_name)[0]\n",
    "            data[name] = d\n",
    "\n",
    "df = pd.DataFrame.from_dict(data, orient='index')"
   ]
  },
  {
   "cell_type": "markdown",
   "id": "9dd7ca27-5cc2-4259-a99e-be671170d7f4",
   "metadata": {},
   "source": [
    "# Plots"
   ]
  },
  {
   "cell_type": "code",
   "execution_count": null,
   "id": "18dc964c-bc39-46b6-8467-02941d955416",
   "metadata": {},
   "outputs": [],
   "source": [
    "%%time\n",
    "\n",
    "%run plot_evo.py \\\n",
    "agent_metrics_v_degraded_r100_cf3_reward_real.npy \\\n",
    "sim_metrics_r100_cf3_reward_real.npy \\\n",
    "--interpolation 1000"
   ]
  }
 ],
 "metadata": {
  "kernelspec": {
   "display_name": "Python 3 (ipykernel)",
   "language": "python",
   "name": "python3"
  },
  "language_info": {
   "codemirror_mode": {
    "name": "ipython",
    "version": 3
   },
   "file_extension": ".py",
   "mimetype": "text/x-python",
   "name": "python",
   "nbconvert_exporter": "python",
   "pygments_lexer": "ipython3",
   "version": "3.12.3"
  }
 },
 "nbformat": 4,
 "nbformat_minor": 5
}
