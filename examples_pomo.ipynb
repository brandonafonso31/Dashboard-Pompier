{
 "cells": [
  {
   "cell_type": "code",
   "execution_count": 2,
   "id": "1562a5d3",
   "metadata": {},
   "outputs": [
    {
     "name": "stdout",
     "output_type": "stream",
     "text": [
      "device is cuda\n"
     ]
    }
   ],
   "source": [
    "import json\n",
    "import os\n",
    "import subprocess\n",
    "from IPython.display import clear_output\n",
    "import torch.optim as optim\n",
    "\n",
    "os.environ[\"CUDA_LAUNCH_BLOCKING\"] = \"1\"\n",
    "os.environ[\"CUDA_VISIBLE_DEVICES\"] = \"0\"\n",
    "\n",
    "import torch \n",
    "device = torch.device(\"cuda\" if torch.cuda.is_available() else \"cpu\")\n",
    "print(\"device is\", device)"
   ]
  },
  {
   "cell_type": "markdown",
   "id": "d57302e2",
   "metadata": {},
   "source": [
    "# Generate metrics"
   ]
  },
  {
   "cell_type": "code",
   "execution_count": 2,
   "id": "ff6308cb",
   "metadata": {},
   "outputs": [],
   "source": [
    "from functions_utils_pomo import get_metrics     "
   ]
  },
  {
   "cell_type": "code",
   "execution_count": 3,
   "id": "1e7ae70a",
   "metadata": {},
   "outputs": [],
   "source": [
    "cur_path = os.getcwd()\n",
    "metrics = get_metrics(cur_path)\n",
    "os.chdir('./Reward_weights')\n",
    "for m in metrics:\n",
    "\n",
    "    dic_tarif_sent_disp = {'v_required': 0,\n",
    "                    'v_sent': 0,\n",
    "                    'v_sent_full':0,\n",
    "                    'v_degraded':0,\n",
    "                    'cancelled':0, #cancel departure\n",
    "                    'function_not_found':0,\n",
    "                    'v1_not_sent_from_s1':0,\n",
    "                    'v3_not_sent_from_s3':0,\n",
    "                    'v_not_found_in_last_station':0,\n",
    "                    'ff_required':0,\n",
    "                    'ff_sent':0,\n",
    "                    'rupture_ff':0,       \n",
    "                    'z1_VSAV_sent': 0,\n",
    "                    'z1_FPT_sent': 0,\n",
    "                    'z1_EPA_sent': 0,\n",
    "                     'VSAV_needed':0,\n",
    "                     'FPT_needed':0,\n",
    "                     'EPA_needed':0,\n",
    "                     'VSAV_disp':0,\n",
    "                     'FPT_disp':0,\n",
    "                     'EPA_disp':0,\n",
    "                    'skill_lvl':0\n",
    "                    } \n",
    "\n",
    "    dic_tarif_sent_disp[m] = -100\n",
    "\n",
    "    if m == 'v_degraded':\n",
    "        \n",
    "        dic_tarif_sent_disp['v_sent_full'] = 10\n",
    "\n",
    "\n",
    "    with open(f\"rw_\"+ m +\"_r100_cf3.json\", \"w\") as f:\n",
    "        json.dump(dic_tarif_sent_disp, f)\n",
    "\n",
    "os.chdir(\"../\")"
   ]
  },
  {
   "cell_type": "code",
   "execution_count": 5,
   "id": "e22feeae",
   "metadata": {},
   "outputs": [
    {
     "data": {
      "text/plain": [
       "{'v_sent': 0,\n",
       " 'v_sent_full': 0,\n",
       " 'v_degraded': 0,\n",
       " 'cancelled': 0,\n",
       " 'function_not_found': 0,\n",
       " 'v1_not_sent_from_1st_station': -100,\n",
       " 'v_not_found_in_last_station': 0,\n",
       " 'z1_sent': 0,\n",
       " 'skill_lvl': 0}"
      ]
     },
     "execution_count": 5,
     "metadata": {},
     "output_type": "execute_result"
    }
   ],
   "source": [
    "os.chdir('./Reward_weights')\n",
    "metric = \"v1_not_sent_from_1st_station\"\n",
    "with open(f\"rw_{metric}_r100_cf3.json\", \"r\") as f:\n",
    "    d = json.load(f)\n",
    "os.chdir(\"../\")\n",
    "d"
   ]
  },
  {
   "cell_type": "markdown",
   "id": "82b6b63d",
   "metadata": {},
   "source": [
    "# Agent params POMO"
   ]
  },
  {
   "cell_type": "code",
   "execution_count": 6,
   "id": "025871cb",
   "metadata": {},
   "outputs": [
    {
     "name": "stdout",
     "output_type": "stream",
     "text": [
      "Type : <class 'numpy.ndarray'>\n",
      "(82, 40)\n",
      "[[0.93103448 1.         0.88888889 ... 0.         0.         0.        ]\n",
      " [0.         0.         1.         ... 0.         0.         0.        ]\n",
      " [0.125      0.125      0.125      ... 0.         0.         0.        ]\n",
      " ...\n",
      " [0.         0.         0.         ... 0.         0.         0.        ]\n",
      " [0.         0.         0.         ... 0.         0.         0.        ]\n",
      " [0.         0.         0.         ... 0.         0.         0.        ]]\n"
     ]
    }
   ],
   "source": [
    "path = \"./SVG_model/shared_state_pomo.pt\"\n",
    "data = torch.load(path, map_location=device,weights_only=False)\n",
    "print(\"Type :\", type(data))\n",
    "print(data.shape)\n",
    "print(data)"
   ]
  },
  {
   "cell_type": "code",
   "execution_count": null,
   "id": "cf5bafab",
   "metadata": {},
   "outputs": [],
   "source": [
    "for metric in metrics:\n",
    "    file_path = f\"Reward_weights/rw_pomo_agent_{metric}_r100_cf3.json\"\n",
    "    try: os.remove(file_path)\n",
    "    except FileNotFoundError: print(f\"File '{file_path}' not found.\")\n",
    "print()\n",
    "\n",
    "#-------Start\n",
    "intervalle = 40\n",
    "start = 1\n",
    "\n",
    "while start <= 53080:\n",
    "    \n",
    "    end = start + intervalle - 1\n",
    "    if end > 53080: end = 53080\n",
    "    cmd = [\"python3\", \"-u\", \"agent_pomo_run.py\", \"--start\", str(start), \"--end\", str(end)]\n",
    "\n",
    "    process = subprocess.Popen(\n",
    "        cmd,\n",
    "        stdout=subprocess.PIPE,\n",
    "        stderr=subprocess.STDOUT,\n",
    "        text=True,\n",
    "        bufsize=1\n",
    "    )\n",
    "\n",
    "    line_count = 0\n",
    "    for line in process.stdout:\n",
    "        line_count += 1\n",
    "        #if line_count % 100 == 0:\n",
    "           #clear_output(wait=True)\n",
    "\n",
    "        print(line.strip())\n",
    "    \n",
    "    process.wait()\n",
    "    \n",
    "    start += intervalle\n",
    "    "
   ]
  },
  {
   "cell_type": "markdown",
   "id": "51c50c41",
   "metadata": {},
   "source": [
    "I copy-pasted the output of previous block in the log.txt file so we can load this ipynb file in github"
   ]
  },
  {
   "cell_type": "code",
   "execution_count": 8,
   "id": "1c0bf0ef",
   "metadata": {},
   "outputs": [
    {
     "name": "stdout",
     "output_type": "stream",
     "text": [
      "Type : <class 'numpy.ndarray'>\n",
      "(82, 40)\n",
      "[[1.         1.         0.85185185 ... 0.         0.         0.        ]\n",
      " [0.         0.         0.         ... 0.         0.         0.        ]\n",
      " [0.125      0.         0.5        ... 0.         0.         0.        ]\n",
      " ...\n",
      " [0.         0.         0.         ... 0.         0.         0.        ]\n",
      " [0.         0.         0.         ... 0.         0.         0.        ]\n",
      " [0.         0.         0.         ... 0.         0.         0.        ]]\n"
     ]
    }
   ],
   "source": [
    "path = \"./SVG_model/shared_state_pomo.pt\"\n",
    "data = torch.load(path, map_location=device,weights_only=False)\n",
    "print(\"Type :\", type(data))\n",
    "print(data.shape)\n",
    "print(data)"
   ]
  },
  {
   "cell_type": "markdown",
   "id": "cd47fd99",
   "metadata": {},
   "source": [
    "# Reward  obtenu après itération"
   ]
  },
  {
   "cell_type": "code",
   "execution_count": 12,
   "id": "e7c4f6de",
   "metadata": {},
   "outputs": [
    {
     "data": {
      "text/plain": [
       "{'v_required': 55,\n",
       " 'v_sent': 56,\n",
       " 'v_sent_full': 55,\n",
       " 'v_degraded': 1,\n",
       " 'rupture_ff': 6,\n",
       " 'function_not_found': 5,\n",
       " 'v1_not_sent_from_s1': 11,\n",
       " 'v3_not_sent_from_s3': 0,\n",
       " 'v_not_found_in_last_station': 0,\n",
       " 'ff_required': 0,\n",
       " 'ff_sent': 200,\n",
       " 'z1_VSAV_sent': 0,\n",
       " 'z1_FPT_sent': 0,\n",
       " 'z1_EPA_sent': 0,\n",
       " 'VSAV_needed': 0,\n",
       " 'FPT_needed': 0,\n",
       " 'EPA_needed': 0,\n",
       " 'VSAV_disp': 8,\n",
       " 'FPT_disp': 0,\n",
       " 'EPA_disp': 0,\n",
       " 'skill_lvl': 331.0}"
      ]
     },
     "execution_count": 12,
     "metadata": {},
     "output_type": "execute_result"
    }
   ],
   "source": [
    "os.chdir('./Reward_weights')\n",
    "metric = \"v_degraded\"\n",
    "with open(f\"rw_pomo_agent_{metric}_r100_cf3.json\", \"r\") as f:\n",
    "    d = json.load(f)\n",
    "os.chdir(\"../\")\n",
    "d"
   ]
  },
  {
   "cell_type": "markdown",
   "id": "92c4244a",
   "metadata": {},
   "source": [
    "# Reward Mean"
   ]
  },
  {
   "cell_type": "code",
   "execution_count": 3,
   "id": "dcc623ba",
   "metadata": {},
   "outputs": [
    {
     "data": {
      "text/plain": [
       "682.99"
      ]
     },
     "execution_count": 3,
     "metadata": {},
     "output_type": "execute_result"
    }
   ],
   "source": [
    "os.chdir('./Reward_weights')\n",
    "metric = \"v_degraded\"\n",
    "with open(f\"rw_mean_pomo_agent_{metric}_r100_cf3.json\", \"r\") as f:\n",
    "    d = json.load(f)\n",
    "os.chdir(\"../\")\n",
    "d"
   ]
  },
  {
   "cell_type": "markdown",
   "id": "d875ee5e",
   "metadata": {},
   "source": [
    "# NEW version POMO test"
   ]
  },
  {
   "cell_type": "code",
   "execution_count": null,
   "id": "dbadab9a",
   "metadata": {},
   "outputs": [
    {
     "name": "stdout",
     "output_type": "stream",
     "text": [
      "Epoch 0, Avg reward: 39.7859\n",
      "Epoch 50, Avg reward: 41.7350\n",
      "Epoch 100, Avg reward: 52.0276\n",
      "Epoch 150, Avg reward: 50.0130\n"
     ]
    }
   ],
   "source": [
    "from agent import POMO_Agent\n",
    "import torch\n",
    "import torch.optim as optim\n",
    "\n",
    "def generate_instances(batch_size, n_nodes, device):\n",
    "    return torch.rand(batch_size, n_nodes, 2, device=device)\n",
    "\n",
    "def compute_tour_length(coords, tours):\n",
    "    B, P, N = tours.size()\n",
    "    tour_coords = torch.gather(coords.unsqueeze(1).expand(-1, P, -1, -1), 2, tours.unsqueeze(-1).expand(-1, -1, -1, 2))\n",
    "    rolled = torch.roll(tour_coords, shifts=-1, dims=2)\n",
    "    lengths = ((tour_coords - rolled) ** 2).sum(dim=-1).sqrt().sum(dim=-1)\n",
    "    return lengths\n",
    "\n",
    "N_EPOCHS = 200\n",
    "BATCH_SIZE = 64\n",
    "N_NODES = 80\n",
    "POMO_SIZE = 2\n",
    "\n",
    "torch.cuda.empty_cache()\n",
    "\n",
    "hyper_params = {\n",
    "    \"node_feature_size\": 2,  # (x,y)\n",
    "    \"hidden_size\": 64,      # Taille des embeddings\n",
    "    \"num_layers\": 3,         # Nombre de couches dans l'encodeur\n",
    "    \"use_batchnorm\": False,\n",
    "    \"device\": device,\n",
    "    \"seed\": 41\n",
    "}\n",
    "\n",
    "model = POMO_Agent(**hyper_params)\n",
    "network = model.qnetwork_local\n",
    "\n",
    "for epoch in range(N_EPOCHS):\n",
    "    coords = generate_instances(BATCH_SIZE, N_NODES, device)  # [B, N, 2]\n",
    "    B = coords.size(0)\n",
    "    \n",
    "    log_probs = []  # Réinitialiser à chaque epoch\n",
    "    rewards = []    # Réinitialiser à chaque epoch\n",
    "\n",
    "    for _ in range(POMO_SIZE):\n",
    "        mask = torch.zeros(B, N_NODES, device=device)  # Masque initial\n",
    "        tour = []\n",
    "        log_p = []\n",
    "        \n",
    "        for _ in range(N_NODES):\n",
    "            # Obtient les logits pour toutes les villes (masquées si déjà visitées)\n",
    "            logits = network(coords, mask)  # [B, N]\n",
    "            probs = torch.softmax(logits, dim=-1)\n",
    "            \n",
    "            # Échantillonne une action\n",
    "            m = torch.distributions.Categorical(probs)\n",
    "            action = m.sample()  # [B]\n",
    "            \n",
    "            # Met à jour le masque et enregistre l'action\n",
    "            mask[torch.arange(B), action] = -float('inf')\n",
    "            tour.append(action)\n",
    "            log_p.append(m.log_prob(action))\n",
    "        \n",
    "        # Calcule la longueur du tour et les log-probs\n",
    "        tour = torch.stack(tour, dim=1)  # [B, N]\n",
    "        log_p = torch.stack(log_p, dim=1)  # [B, N]\n",
    "        \n",
    "        log_probs.append(log_p.sum(dim=1))  # [B]\n",
    "        rewards.append(compute_tour_length(coords, tour.unsqueeze(1)).squeeze(1))  # [B]\n",
    "\n",
    "    # Stack les résultats pour POMO\n",
    "    log_probs = torch.stack(log_probs, dim=1)  # [B, P]\n",
    "    rewards = torch.stack(rewards, dim=1)      # [B, P]\n",
    "\n",
    "    # Calcul du POMO baseline et de la loss\n",
    "    baseline = rewards.mean(dim=1, keepdim=True)\n",
    "    advantage = baseline - rewards  # On veut minimiser la longueur\n",
    "    loss = (advantage.detach() * log_probs).mean()\n",
    "\n",
    "    # Backpropagation\n",
    "    model.optimizer.zero_grad()\n",
    "    loss.backward()\n",
    "    model.optimizer.step()\n",
    "\n",
    "    if epoch % 50 == 0:\n",
    "        avg_reward = rewards.min(dim=1)[0].mean().item()  # Meilleur tour par instance\n",
    "        print(f\"Epoch {epoch}, Avg reward: {avg_reward:.4f}\")"
   ]
  },
  {
   "cell_type": "markdown",
   "id": "1416d738",
   "metadata": {},
   "source": [
    "# Real POMO"
   ]
  },
  {
   "cell_type": "code",
   "execution_count": 1,
   "id": "7e0fdb88",
   "metadata": {},
   "outputs": [
    {
     "name": "stderr",
     "output_type": "stream",
     "text": [
      "/home/brandon/Projet_TER/TEST_byMe/env_pompier/lib/python3.12/site-packages/tqdm/auto.py:21: TqdmWarning: IProgress not found. Please update jupyter and ipywidgets. See https://ipywidgets.readthedocs.io/en/stable/user_install.html\n",
      "  from .autonotebook import tqdm as notebook_tqdm\n"
     ]
    }
   ],
   "source": [
    "import pandas as pd\n",
    "import numpy as np\n",
    "import json\n",
    "import os\n",
    "from collections import defaultdict, deque\n",
    "import pickle\n",
    "from IPython import get_ipython\n",
    "from tqdm.auto import tqdm\n",
    "import gc\n",
    "import subprocess\n",
    "from IPython.display import clear_output\n",
    "import matplotlib.pyplot as plt\n",
    "import wandb"
   ]
  },
  {
   "cell_type": "code",
   "execution_count": 23,
   "id": "3bdcffdd",
   "metadata": {},
   "outputs": [
    {
     "name": "stdout",
     "output_type": "stream",
     "text": [
      "[' OTAU', 'BLS', 'BMS', 'CCF', 'CCF RECO', 'CCFL2000', 'CCFL500', 'CCFM', 'CCFS', 'CCF_RENF', 'CCGC', 'CCGCA', 'CCGCAD', 'CEAC', 'CEAEGC', 'CEAR', 'CECGC', 'CEDE', 'CEGC', 'CEMUL', 'CMIR', 'COMPL', 'COMPL CCF', 'EPA', 'EPC18', 'EPC32', 'EPC32P', 'EPS18', 'EPS24', 'EPS32', 'FMOGP', 'FPT', 'FPT APPUI', 'FPT H INC', 'FPT PROTEC', 'FPT RAD', 'FPT RCH', 'FPTL', 'FPTLHR', 'FPTSR', 'FPTSR PROT', 'FPTSRHR', 'FPTSRT', 'MSN', 'PCC', 'PRM', 'PSECINC', 'PSECINC2', 'PSECINC_10', 'PSECINC_2', 'PSECINC_X', 'PSECSAP', 'PSECSAP2', 'PSECSAP_3', 'PSECSAP_4', 'PSECSAP_EU', 'PSECSR', 'P_EAU', 'REL', 'RENF_SPE', 'R_CCF_CUR', 'ULTT', 'VCG', 'VCYNO', 'VEC', 'VEMB', 'VEMB_EB', 'VEV', 'VF', 'VF4X4', 'VFT', 'VGD', 'VGELD', 'VGREX', 'VGRIMP', 'VICH', 'VID', 'VID PROTEC', 'VID SR', 'VIDTP', 'VISS4X4', 'VL', 'VL ASTREIN', 'VL ESSAI', 'VLA', 'VLD', 'VLD_RCH', 'VLHR', 'VLHR RENF', 'VLHR SD', 'VLOSS', 'VLSM', 'VLTC', 'VPCC', 'VPCE', 'VPCE CEPOL', 'VPCE SD', 'VSAV', 'VSAV 4X4', 'VSAV FORM', 'VSAV_U2', 'VSLA', 'VSM', 'VSM4X4', 'VSMP', 'VSMPM', 'VSN', 'VSR', 'VSR PROTEC', 'VSRM', 'VSSO', 'VTP', 'VTU', 'VTUTP', 'XCTA', 'XPSECSAP', 'XSMO']\n",
      "['*CA_TE*', '*CDC*', '*CDG*', '*CE*', '*COD1*', '*COD2*', '*COD4*', '*COD6*', '*CYN2*', '*CYN3*', '*EQ*', 'CA_CCF', 'CA_CEDEC', 'CA_CMIR', 'CA_ENG_1EQUIPE', 'CA_ENG_DIV', 'CA_ENG_INC', 'CA_ENG_INC_1EQ', 'CA_ENG_SAP', 'CA_ENG_SR', 'CA_EPA', 'CA_FPT_RAD', 'CA_FPT_RCH', 'CA_PSECINC', 'CA_PSECSAP', 'CA_RCH', 'CA_VFT', 'CA_VICH', 'CA_VLD', 'CA_VLD_RCH', 'CA_VPL', 'CA_VSAV', 'CA_VSMP', 'CDS CODIS', 'CE_CCF', 'CE_CEDEC', 'CE_ENG_INC', 'COND_BMS_EB', 'COND_CCFL500', 'COND_CCF_FDF', 'COND_CEDEC', 'COND_CMIR', 'COND_ENG_PL', 'COND_ENG_PL2', 'COND_ENG_PL_SD', 'COND_ENG_PL_TT', 'COND_EPA', 'COND_FMOGP', 'COND_FPT_RAD', 'COND_FPT_RCH', 'COND_PCC', 'COND_PL_RCH', 'COND_PSECSAP', 'COND_ULTT', 'COND_VF', 'COND_VFT', 'COND_VGELD', 'COND_VGREX', 'COND_VGRIMP', 'COND_VICH', 'COND_VID', 'COND_VL', 'COND_VLA', 'COND_VLD', 'COND_VLD_RCH', 'COND_VLHR', 'COND_VPCE_DEPOL', 'COND_VPL', 'COND_VSAV', 'COND_VSMP', 'COND_VSR', 'COND_VSSO', 'EQ_CCF', 'EQ_CEDEC', 'EQ_DIV', 'EQ_ENG_INC', 'EQ_ENG_NAUT', 'EQ_ENG_SAP', 'EQ_ENG_SAP2', 'EQ_ENG_SR', 'EQ_EPA', 'EQ_PSECINC', 'EQ_PSECSAP', 'EQ_ULTT', 'EQ_VF', 'EQ_VL', 'EQ_VPL', 'EQ_VSMP', 'EQ_VSSO', 'IMP_CU', 'IMP_SAUV']\n",
      "[' OTAU', 'BLS', 'BMS', 'CCF', 'CCF RECO', 'CCFL2000', 'CCFL500', 'CCFM', 'CCFS', 'CCF_RENF', 'CCGC', 'CCGCA', 'CCGCAD', 'CEAC', 'CEAEGC', 'CEAR', 'CECGC', 'CEDE', 'CEGC', 'CEMUL', 'CMIR', 'COMPL', 'COMPL CCF', 'EPA', 'EPC18', 'EPC32', 'EPC32P', 'EPS18', 'EPS24', 'EPS32', 'FMOGP', 'FPT', 'FPT APPUI', 'FPT H INC', 'FPT PROTEC', 'FPT RAD', 'FPT RCH', 'FPTL', 'FPTLHR', 'FPTSR', 'FPTSR PROT', 'FPTSRHR', 'FPTSRT', 'MSN', 'PCC', 'PRM', 'PSECINC', 'PSECINC2', 'PSECINC_10', 'PSECINC_2', 'PSECINC_X', 'PSECSAP', 'PSECSAP2', 'PSECSAP_3', 'PSECSAP_4', 'PSECSAP_EU', 'PSECSR', 'P_EAU', 'REL', 'RENF_SPE', 'R_CCF_CUR', 'ULTT', 'VCG', 'VCYNO', 'VEC', 'VEMB', 'VEMB_EB', 'VEV', 'VF', 'VF4X4', 'VFT', 'VGD', 'VGELD', 'VGREX', 'VGRIMP', 'VICH', 'VID', 'VID PROTEC', 'VID SR', 'VIDTP', 'VISS4X4', 'VL', 'VL ASTREIN', 'VL ESSAI', 'VLA', 'VLD', 'VLD_RCH', 'VLHR', 'VLHR RENF', 'VLHR SD', 'VLOSS', 'VLSM', 'VLTC', 'VPCC', 'VPCE', 'VPCE CEPOL', 'VPCE SD', 'VSAV', 'VSAV 4X4', 'VSAV FORM', 'VSAV_U2', 'VSLA', 'VSM', 'VSM4X4', 'VSMP', 'VSMPM', 'VSN', 'VSR', 'VSR PROTEC', 'VSRM', 'VSSO', 'VTP', 'VTU', 'VTUTP', 'XCTA', 'XPSECSAP', 'XSMO']\n",
      "['*CA_TE*', '*CDC*', '*CDG*', '*CE*', '*COD1*', '*COD2*', '*COD4*', '*COD6*', '*CYN2*', '*CYN3*', '*EQ*', 'CA_CCF', 'CA_CEDEC', 'CA_CMIR', 'CA_ENG_1EQUIPE', 'CA_ENG_DIV', 'CA_ENG_INC', 'CA_ENG_INC_1EQ', 'CA_ENG_SAP', 'CA_ENG_SR', 'CA_EPA', 'CA_FPT_RAD', 'CA_FPT_RCH', 'CA_PSECINC', 'CA_PSECSAP', 'CA_RCH', 'CA_VFT', 'CA_VICH', 'CA_VLD', 'CA_VLD_RCH', 'CA_VPL', 'CA_VSAV', 'CA_VSMP', 'CDS CODIS', 'CE_CCF', 'CE_CEDEC', 'CE_ENG_INC', 'COND_BMS_EB', 'COND_CCFL500', 'COND_CCF_FDF', 'COND_CEDEC', 'COND_CMIR', 'COND_ENG_PL', 'COND_ENG_PL2', 'COND_ENG_PL_SD', 'COND_ENG_PL_TT', 'COND_EPA', 'COND_FMOGP', 'COND_FPT_RAD', 'COND_FPT_RCH', 'COND_PCC', 'COND_PL_RCH', 'COND_PSECSAP', 'COND_ULTT', 'COND_VF', 'COND_VFT', 'COND_VGELD', 'COND_VGREX', 'COND_VGRIMP', 'COND_VICH', 'COND_VID', 'COND_VL', 'COND_VLA', 'COND_VLD', 'COND_VLD_RCH', 'COND_VLHR', 'COND_VPCE_DEPOL', 'COND_VPL', 'COND_VSAV', 'COND_VSMP', 'COND_VSR', 'COND_VSSO', 'EQ_CCF', 'EQ_CEDEC', 'EQ_DIV', 'EQ_ENG_INC', 'EQ_ENG_NAUT', 'EQ_ENG_SAP', 'EQ_ENG_SAP2', 'EQ_ENG_SR', 'EQ_EPA', 'EQ_PSECINC', 'EQ_PSECSAP', 'EQ_ULTT', 'EQ_VF', 'EQ_VL', 'EQ_VPL', 'EQ_VSMP', 'EQ_VSSO', 'IMP_CU', 'IMP_SAUV']\n",
      "[' OTAU', 'BLS', 'BMS', 'CCF', 'CCF RECO', 'CCFL2000', 'CCFL500', 'CCFM', 'CCFS', 'CCF_RENF', 'CCGC', 'CCGCA', 'CCGCAD', 'CEAC', 'CEAEGC', 'CEAR', 'CECGC', 'CEDE', 'CEGC', 'CEMUL', 'CMIR', 'COMPL', 'COMPL CCF', 'EPA', 'EPC18', 'EPC32', 'EPC32P', 'EPS18', 'EPS24', 'EPS32', 'FMOGP', 'FPT', 'FPT APPUI', 'FPT H INC', 'FPT PROTEC', 'FPT RAD', 'FPT RCH', 'FPTL', 'FPTLHR', 'FPTSR', 'FPTSR PROT', 'FPTSRHR', 'FPTSRT', 'MSN', 'PCC', 'PRM', 'PSECINC', 'PSECINC2', 'PSECINC_10', 'PSECINC_2', 'PSECINC_X', 'PSECSAP', 'PSECSAP2', 'PSECSAP_3', 'PSECSAP_4', 'PSECSAP_EU', 'PSECSR', 'P_EAU', 'REL', 'RENF_SPE', 'R_CCF_CUR', 'ULTT', 'VCG', 'VCYNO', 'VEC', 'VEMB', 'VEMB_EB', 'VEV', 'VF', 'VF4X4', 'VFT', 'VGD', 'VGELD', 'VGREX', 'VGRIMP', 'VICH', 'VID', 'VID PROTEC', 'VID SR', 'VIDTP', 'VISS4X4', 'VL', 'VL ASTREIN', 'VL ESSAI', 'VLA', 'VLD', 'VLD_RCH', 'VLHR', 'VLHR RENF', 'VLHR SD', 'VLOSS', 'VLSM', 'VLTC', 'VPCC', 'VPCE', 'VPCE CEPOL', 'VPCE SD', 'VSAV', 'VSAV 4X4', 'VSAV FORM', 'VSAV_U2', 'VSLA', 'VSM', 'VSM4X4', 'VSMP', 'VSMPM', 'VSN', 'VSR', 'VSR PROTEC', 'VSRM', 'VSSO', 'VTP', 'VTU', 'VTUTP', 'XCTA', 'XPSECSAP', 'XSMO']\n",
      "['*CA_TE*', '*CDC*', '*CDG*', '*CE*', '*COD1*', '*COD2*', '*COD4*', '*COD6*', '*CYN2*', '*CYN3*', '*EQ*', 'CA_CCF', 'CA_CEDEC', 'CA_CMIR', 'CA_ENG_1EQUIPE', 'CA_ENG_DIV', 'CA_ENG_INC', 'CA_ENG_INC_1EQ', 'CA_ENG_SAP', 'CA_ENG_SR', 'CA_EPA', 'CA_FPT_RAD', 'CA_FPT_RCH', 'CA_PSECINC', 'CA_PSECSAP', 'CA_RCH', 'CA_VFT', 'CA_VICH', 'CA_VLD', 'CA_VLD_RCH', 'CA_VPL', 'CA_VSAV', 'CA_VSMP', 'CDS CODIS', 'CE_CCF', 'CE_CEDEC', 'CE_ENG_INC', 'COND_BMS_EB', 'COND_CCFL500', 'COND_CCF_FDF', 'COND_CEDEC', 'COND_CMIR', 'COND_ENG_PL', 'COND_ENG_PL2', 'COND_ENG_PL_SD', 'COND_ENG_PL_TT', 'COND_EPA', 'COND_FMOGP', 'COND_FPT_RAD', 'COND_FPT_RCH', 'COND_PCC', 'COND_PL_RCH', 'COND_PSECSAP', 'COND_ULTT', 'COND_VF', 'COND_VFT', 'COND_VGELD', 'COND_VGREX', 'COND_VGRIMP', 'COND_VICH', 'COND_VID', 'COND_VL', 'COND_VLA', 'COND_VLD', 'COND_VLD_RCH', 'COND_VLHR', 'COND_VPCE_DEPOL', 'COND_VPL', 'COND_VSAV', 'COND_VSMP', 'COND_VSR', 'COND_VSSO', 'EQ_CCF', 'EQ_CEDEC', 'EQ_DIV', 'EQ_ENG_INC', 'EQ_ENG_NAUT', 'EQ_ENG_SAP', 'EQ_ENG_SAP2', 'EQ_ENG_SR', 'EQ_EPA', 'EQ_PSECINC', 'EQ_PSECSAP', 'EQ_ULTT', 'EQ_VF', 'EQ_VL', 'EQ_VPL', 'EQ_VSMP', 'EQ_VSSO', 'IMP_CU', 'IMP_SAUV']\n",
      "[' OTAU', 'BLS', 'BMS', 'CCF', 'CCF RECO', 'CCFL2000', 'CCFL500', 'CCFM', 'CCFS', 'CCF_RENF', 'CCGC', 'CCGCA', 'CCGCAD', 'CEAC', 'CEAEGC', 'CEAR', 'CECGC', 'CEDE', 'CEGC', 'CEMUL', 'CMIR', 'COMPL', 'COMPL CCF', 'EPA', 'EPC18', 'EPC32', 'EPC32P', 'EPS18', 'EPS24', 'EPS32', 'FMOGP', 'FPT', 'FPT APPUI', 'FPT H INC', 'FPT PROTEC', 'FPT RAD', 'FPT RCH', 'FPTL', 'FPTLHR', 'FPTSR', 'FPTSR PROT', 'FPTSRHR', 'FPTSRT', 'MSN', 'PCC', 'PRM', 'PSECINC', 'PSECINC2', 'PSECINC_10', 'PSECINC_2', 'PSECINC_X', 'PSECSAP', 'PSECSAP2', 'PSECSAP_3', 'PSECSAP_4', 'PSECSAP_EU', 'PSECSR', 'P_EAU', 'REL', 'RENF_SPE', 'R_CCF_CUR', 'ULTT', 'VCG', 'VCYNO', 'VEC', 'VEMB', 'VEMB_EB', 'VEV', 'VF', 'VF4X4', 'VFT', 'VGD', 'VGELD', 'VGREX', 'VGRIMP', 'VICH', 'VID', 'VID PROTEC', 'VID SR', 'VIDTP', 'VISS4X4', 'VL', 'VL ASTREIN', 'VL ESSAI', 'VLA', 'VLD', 'VLD_RCH', 'VLHR', 'VLHR RENF', 'VLHR SD', 'VLOSS', 'VLSM', 'VLTC', 'VPCC', 'VPCE', 'VPCE CEPOL', 'VPCE SD', 'VSAV', 'VSAV 4X4', 'VSAV FORM', 'VSAV_U2', 'VSLA', 'VSM', 'VSM4X4', 'VSMP', 'VSMPM', 'VSN', 'VSR', 'VSR PROTEC', 'VSRM', 'VSSO', 'VTP', 'VTU', 'VTUTP', 'XCTA', 'XPSECSAP', 'XSMO']\n",
      "['*CA_TE*', '*CDC*', '*CDG*', '*CE*', '*COD1*', '*COD2*', '*COD4*', '*COD6*', '*CYN2*', '*CYN3*', '*EQ*', 'CA_CCF', 'CA_CEDEC', 'CA_CMIR', 'CA_ENG_1EQUIPE', 'CA_ENG_DIV', 'CA_ENG_INC', 'CA_ENG_INC_1EQ', 'CA_ENG_SAP', 'CA_ENG_SR', 'CA_EPA', 'CA_FPT_RAD', 'CA_FPT_RCH', 'CA_PSECINC', 'CA_PSECSAP', 'CA_RCH', 'CA_VFT', 'CA_VICH', 'CA_VLD', 'CA_VLD_RCH', 'CA_VPL', 'CA_VSAV', 'CA_VSMP', 'CDS CODIS', 'CE_CCF', 'CE_CEDEC', 'CE_ENG_INC', 'COND_BMS_EB', 'COND_CCFL500', 'COND_CCF_FDF', 'COND_CEDEC', 'COND_CMIR', 'COND_ENG_PL', 'COND_ENG_PL2', 'COND_ENG_PL_SD', 'COND_ENG_PL_TT', 'COND_EPA', 'COND_FMOGP', 'COND_FPT_RAD', 'COND_FPT_RCH', 'COND_PCC', 'COND_PL_RCH', 'COND_PSECSAP', 'COND_ULTT', 'COND_VF', 'COND_VFT', 'COND_VGELD', 'COND_VGREX', 'COND_VGRIMP', 'COND_VICH', 'COND_VID', 'COND_VL', 'COND_VLA', 'COND_VLD', 'COND_VLD_RCH', 'COND_VLHR', 'COND_VPCE_DEPOL', 'COND_VPL', 'COND_VSAV', 'COND_VSMP', 'COND_VSR', 'COND_VSSO', 'EQ_CCF', 'EQ_CEDEC', 'EQ_DIV', 'EQ_ENG_INC', 'EQ_ENG_NAUT', 'EQ_ENG_SAP', 'EQ_ENG_SAP2', 'EQ_ENG_SR', 'EQ_EPA', 'EQ_PSECINC', 'EQ_PSECSAP', 'EQ_ULTT', 'EQ_VF', 'EQ_VL', 'EQ_VPL', 'EQ_VSMP', 'EQ_VSSO', 'IMP_CU', 'IMP_SAUV']\n"
     ]
    },
    {
     "ename": "KeyboardInterrupt",
     "evalue": "",
     "output_type": "error",
     "traceback": [
      "\u001b[31m---------------------------------------------------------------------------\u001b[39m",
      "\u001b[31mKeyboardInterrupt\u001b[39m                         Traceback (most recent call last)",
      "\u001b[36mCell\u001b[39m\u001b[36m \u001b[39m\u001b[32mIn[23]\u001b[39m\u001b[32m, line 34\u001b[39m\n\u001b[32m     32\u001b[39m line_count = \u001b[32m0\u001b[39m\n\u001b[32m     33\u001b[39m stdout_lines = deque(maxlen=\u001b[32m5000\u001b[39m)\n\u001b[32m---> \u001b[39m\u001b[32m34\u001b[39m \u001b[38;5;28;43;01mfor\u001b[39;49;00m\u001b[43m \u001b[49m\u001b[43mline\u001b[49m\u001b[43m \u001b[49m\u001b[38;5;129;43;01min\u001b[39;49;00m\u001b[43m \u001b[49m\u001b[43mprocess\u001b[49m\u001b[43m.\u001b[49m\u001b[43mstdout\u001b[49m\u001b[43m:\u001b[49m\n\u001b[32m     35\u001b[39m \u001b[43m    \u001b[49m\u001b[43mstdout_lines\u001b[49m\u001b[43m.\u001b[49m\u001b[43mappend\u001b[49m\u001b[43m(\u001b[49m\u001b[43mline\u001b[49m\u001b[43m)\u001b[49m\n\u001b[32m     36\u001b[39m \u001b[43m    \u001b[49m\u001b[43mline_count\u001b[49m\u001b[43m \u001b[49m\u001b[43m+\u001b[49m\u001b[43m=\u001b[49m\u001b[43m \u001b[49m\u001b[32;43m1\u001b[39;49m\n",
      "\u001b[31mKeyboardInterrupt\u001b[39m: "
     ]
    }
   ],
   "source": [
    "model = \"pomo\"\n",
    "years = \"1y\"\n",
    "suffix = \"cfv1p1\"\n",
    "rwd=\"rupture_ff\"\n",
    "\n",
    "cmd = [\n",
    "    \"python3\", \"-u\", \"agent_run.py\",\n",
    "    \"--model_name\", f\"agent_{model}_{years}_{suffix}_{rwd}\",\n",
    "    \"--agent_model\", model,\n",
    "    \"--hyper_params\", \"hyper_params.json\",\n",
    "    \"--reward_weights\", f\"rw_{rwd}.json\",\n",
    "    \"--dataset\", f\"df_pc_fake_{years}.pkl\",\n",
    "    \"--start\", \"1\",\n",
    "    \"--end\", \"53088\",\n",
    "    \"--constraint_factor_veh\", \"1\",\n",
    "    \"--constraint_factor_ff\", \"1\",\n",
    "    \"--save_metrics_as\", f\"metrics_{model}_{years}_{suffix}_{rwd}\",\n",
    "    \"--train\",\n",
    "    \"--eps_start\",\"1\"\n",
    "\n",
    "]\n",
    "# \"--load\"\n",
    "\n",
    "process = subprocess.Popen(\n",
    "    cmd,\n",
    "    stdout=subprocess.PIPE,\n",
    "    stderr=subprocess.STDOUT,\n",
    "    text=True,\n",
    "    bufsize=1\n",
    ")\n",
    "\n",
    "line_count = 0\n",
    "stdout_lines = deque(maxlen=5000)\n",
    "for line in process.stdout:\n",
    "    stdout_lines.append(line)\n",
    "    line_count += 1\n",
    "    if line_count % 100 == 0:\n",
    "        clear_output(wait=True)\n",
    "\n",
    "    print(line.strip())"
   ]
  },
  {
   "cell_type": "code",
   "execution_count": null,
   "id": "7bbe39c2",
   "metadata": {},
   "outputs": [
    {
     "name": "stdout",
     "output_type": "stream",
     "text": [
      "['*COD4*', 'COND_FMOGP', 'CA_ENG_SR', 'CA_VLD_RCH', 'CA_ENG_1EQUIPE', 'EQ_EPA', 'COND_ENG_PL_SD', 'EQ_ENG_INC', 'COND_VLHR', 'EQ_VSMP', 'CA_VLD', 'CA_VSMP', 'COND_EPA', 'COND_VGELD', '*CA_TE*', 'CA_VICH', 'CDS CODIS', 'EQ_ULTT', 'CA_ENG_INC', 'CA_CMIR', 'COND_PSECSAP', '*COD1*', 'COND_VPCE_DEPOL', '*CE*', 'COND_ENG_PL_TT', 'EQ_PSECINC', 'COND_VLA', 'COND_ENG_PL', 'COND_CEDEC', 'CA_FPT_RCH', '*CDC*', '*CDG*', 'EQ_VF', 'CA_VFT', 'CE_CEDEC', 'EQ_ENG_SR', 'COND_VL', 'EQ_VL', 'COND_FPT_RAD', 'EQ_CCF', 'COND_ULTT', '*CYN3*', 'CA_CEDEC', '*CYN2*', 'COND_VSR', 'COND_PCC', 'COND_VID', 'IMP_CU', 'COND_VFT', 'COND_PL_RCH', 'EQ_ENG_NAUT', 'CA_PSECSAP', 'CA_PSECINC', 'COND_VGREX', 'CA_ENG_INC_1EQ', 'CA_ENG_SAP', 'COND_CCFL500', 'EQ_VSSO', 'EQ_DIV', 'COND_ENG_PL2', 'COND_VSSO', 'COND_VSMP', 'COND_VGRIMP', 'EQ_ENG_SAP', 'CA_ENG_DIV', 'COND_BMS_EB', 'EQ_PSECSAP', 'COND_FPT_RCH', '*COD2*', 'EQ_CEDEC', 'CA_VSAV', 'COND_VF', 'COND_VPL', 'EQ_ENG_SAP2', 'COND_VLD', 'CA_FPT_RAD', '*COD6*', '*EQ*', 'CA_VPL', 'COND_CMIR', 'COND_CCF_FDF', 'CA_CCF', 'IMP_SAUV', 'COND_VLD_RCH', 'CA_RCH', 'EQ_VPL', 'CA_EPA', 'CE_ENG_INC', 'COND_VSAV', 'COND_VICH', 'CE_CCF']\n",
      "False\n"
     ]
    }
   ],
   "source": [
    "dic_roles = [' OTAU', 'BLS', 'BMS', 'CCF', 'CCF RECO', 'CCFL2000', 'CCFL500', 'CCFM', 'CCFS', 'CCF_RENF', 'CCGC', 'CCGCA', 'CCGCAD', 'CEAC', 'CEAEGC', 'CEAR', 'CECGC', 'CEDE', 'CEGC', 'CEMUL', 'CMIR', 'COMPL', 'COMPL CCF', 'EPA', 'EPC18', 'EPC32', 'EPC32P', 'EPS18', 'EPS24', 'EPS32', 'FMOGP', 'FPT', 'FPT APPUI', 'FPT H INC', 'FPT PROTEC', 'FPT RAD', 'FPT RCH', 'FPTL', 'FPTLHR', 'FPTSR', 'FPTSR PROT', 'FPTSRHR', 'FPTSRT', 'MSN', 'PCC', 'PRM', 'PSECINC', 'PSECINC2', 'PSECINC_10', 'PSECINC_2', 'PSECINC_X', 'PSECSAP', 'PSECSAP2', 'PSECSAP_3', 'PSECSAP_4', 'PSECSAP_EU', 'PSECSR', 'P_EAU', 'REL', 'RENF_SPE', 'R_CCF_CUR', 'ULTT', 'VCG', 'VCYNO', 'VEC', 'VEMB', 'VEMB_EB', 'VEV', 'VF', 'VF4X4', 'VFT', 'VGD', 'VGELD', 'VGREX', 'VGRIMP', 'VICH', 'VID', 'VID PROTEC', 'VID SR', 'VIDTP', 'VISS4X4', 'VL', 'VL ASTREIN', 'VL ESSAI', 'VLA', 'VLD', 'VLD_RCH', 'VLHR', 'VLHR RENF', 'VLHR SD', 'VLOSS', 'VLSM', 'VLTC', 'VPCC', 'VPCE', 'VPCE CEPOL', 'VPCE SD', 'VSAV', 'VSAV 4X4', 'VSAV FORM', 'VSAV_U2', 'VSLA', 'VSM', 'VSM4X4', 'VSMP', 'VSMPM', 'VSN', 'VSR', 'VSR PROTEC', 'VSRM', 'VSSO', 'VTP', 'VTU', 'VTUTP', 'XCTA', 'XPSECSAP', 'XSMO']\n",
    "dic_roles_skill = ['*CA_TE*', '*CDC*', '*CDG*', '*CE*', '*COD1*', '*COD2*', '*COD4*', '*COD6*', '*CYN2*', '*CYN3*', '*EQ*', 'CA_CCF', 'CA_CEDEC', 'CA_CMIR', 'CA_ENG_1EQUIPE', 'CA_ENG_DIV', 'CA_ENG_INC', 'CA_ENG_INC_1EQ', 'CA_ENG_SAP', 'CA_ENG_SR', 'CA_EPA', 'CA_FPT_RAD', 'CA_FPT_RCH', 'CA_PSECINC', 'CA_PSECSAP', 'CA_RCH', 'CA_VFT', 'CA_VICH', 'CA_VLD', 'CA_VLD_RCH', 'CA_VPL', 'CA_VSAV', 'CA_VSMP', 'CDS CODIS', 'CE_CCF', 'CE_CEDEC', 'CE_ENG_INC', 'COND_BMS_EB', 'COND_CCFL500', 'COND_CCF_FDF', 'COND_CEDEC', 'COND_CMIR', 'COND_ENG_PL', 'COND_ENG_PL2', 'COND_ENG_PL_SD', 'COND_ENG_PL_TT', 'COND_EPA', 'COND_FMOGP', 'COND_FPT_RAD', 'COND_FPT_RCH', 'COND_PCC', 'COND_PL_RCH', 'COND_PSECSAP', 'COND_ULTT', 'COND_VF', 'COND_VFT', 'COND_VGELD', 'COND_VGREX', 'COND_VGRIMP', 'COND_VICH', 'COND_VID', 'COND_VL', 'COND_VLA', 'COND_VLD', 'COND_VLD_RCH', 'COND_VLHR', 'COND_VPCE_DEPOL', 'COND_VPL', 'COND_VSAV', 'COND_VSMP', 'COND_VSR', 'COND_VSSO', 'EQ_CCF', 'EQ_CEDEC', 'EQ_DIV', 'EQ_ENG_INC', 'EQ_ENG_NAUT', 'EQ_ENG_SAP', 'EQ_ENG_SAP2', 'EQ_ENG_SR', 'EQ_EPA', 'EQ_PSECINC', 'EQ_PSECSAP', 'EQ_ULTT', 'EQ_VF', 'EQ_VL', 'EQ_VPL', 'EQ_VSMP', 'EQ_VSSO', 'IMP_CU', 'IMP_SAUV']\n",
    "\n",
    "with open('./Data_environment/df_roles.pkl', 'rb') as f:\n",
    "    f = pickle.load(f)\n",
    "roles = list(set([_ for _ in f[\"Fonction\"]]))\n",
    "print(roles)\n",
    "print(\"CHEF DE GROUPE\" in roles)\n",
    "print(\"CHEF DE GROUPE\" in dic_roles)\n",
    "print(\"CHEF DE GROUPE\" in dic_roles_skill)"
   ]
  }
 ],
 "metadata": {
  "kernelspec": {
   "display_name": "env_pompier",
   "language": "python",
   "name": "python3"
  },
  "language_info": {
   "codemirror_mode": {
    "name": "ipython",
    "version": 3
   },
   "file_extension": ".py",
   "mimetype": "text/x-python",
   "name": "python",
   "nbconvert_exporter": "python",
   "pygments_lexer": "ipython3",
   "version": "3.12.3"
  }
 },
 "nbformat": 4,
 "nbformat_minor": 5
}
