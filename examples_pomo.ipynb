{
 "cells": [
  {
   "cell_type": "code",
   "execution_count": 1,
   "id": "1562a5d3",
   "metadata": {},
   "outputs": [
    {
     "name": "stdout",
     "output_type": "stream",
     "text": [
      "device is cuda\n"
     ]
    }
   ],
   "source": [
    "import json\n",
    "import os\n",
    "import subprocess\n",
    "from IPython.display import clear_output\n",
    "\n",
    "os.environ[\"CUDA_LAUNCH_BLOCKING\"] = \"1\"\n",
    "os.environ[\"CUDA_VISIBLE_DEVICES\"] = \"0\"\n",
    "\n",
    "import torch \n",
    "device = torch.device(\"cuda\" if torch.cuda.is_available() else \"cpu\")\n",
    "print(\"device is\", device)"
   ]
  },
  {
   "cell_type": "markdown",
   "id": "d57302e2",
   "metadata": {},
   "source": [
    "# Generate metrics"
   ]
  },
  {
   "cell_type": "code",
   "execution_count": 2,
   "id": "ff6308cb",
   "metadata": {},
   "outputs": [],
   "source": [
    "from functions_utils_pomo import get_metrics     "
   ]
  },
  {
   "cell_type": "code",
   "execution_count": 3,
   "id": "1e7ae70a",
   "metadata": {},
   "outputs": [],
   "source": [
    "cur_path = os.getcwd()\n",
    "metrics = get_metrics(cur_path)\n",
    "os.chdir('./Reward_weights')\n",
    "for m in metrics:\n",
    "\n",
    "    dic_tarif_sent_disp = {'v_required': 0,\n",
    "                    'v_sent': 0,\n",
    "                    'v_sent_full':0,\n",
    "                    'v_degraded':0,\n",
    "                    'cancelled':0, #cancel departure\n",
    "                    'function_not_found':0,\n",
    "                    'v1_not_sent_from_s1':0,\n",
    "                    'v3_not_sent_from_s3':0,\n",
    "                    'v_not_found_in_last_station':0,\n",
    "                    'ff_required':0,\n",
    "                    'ff_sent':0,\n",
    "                    'rupture_ff':0,       \n",
    "                    'z1_VSAV_sent': 0,\n",
    "                    'z1_FPT_sent': 0,\n",
    "                    'z1_EPA_sent': 0,\n",
    "                     'VSAV_needed':0,\n",
    "                     'FPT_needed':0,\n",
    "                     'EPA_needed':0,\n",
    "                     'VSAV_disp':0,\n",
    "                     'FPT_disp':0,\n",
    "                     'EPA_disp':0,\n",
    "                    'skill_lvl':0\n",
    "                    } \n",
    "\n",
    "    dic_tarif_sent_disp[m] = -100\n",
    "\n",
    "    if m == 'v_degraded':\n",
    "        \n",
    "        dic_tarif_sent_disp['v_sent_full'] = 10\n",
    "\n",
    "\n",
    "    with open(f\"rw_\"+ m +\"_r100_cf3.json\", \"w\") as f:\n",
    "        json.dump(dic_tarif_sent_disp, f)\n",
    "\n",
    "os.chdir(\"../\")"
   ]
  },
  {
   "cell_type": "code",
   "execution_count": 4,
   "id": "e22feeae",
   "metadata": {},
   "outputs": [
    {
     "data": {
      "text/plain": [
       "{'v_sent': 0,\n",
       " 'v_sent_full': 0,\n",
       " 'v_degraded': 0,\n",
       " 'cancelled': 0,\n",
       " 'function_not_found': 0,\n",
       " 'v1_not_sent_from_1st_station': -100,\n",
       " 'v_not_found_in_last_station': 0,\n",
       " 'z1_sent': 0,\n",
       " 'skill_lvl': 0}"
      ]
     },
     "execution_count": 4,
     "metadata": {},
     "output_type": "execute_result"
    }
   ],
   "source": [
    "os.chdir('./Reward_weights')\n",
    "metric = \"v1_not_sent_from_1st_station\"\n",
    "with open(f\"rw_{metric}_r100_cf3.json\", \"r\") as f:\n",
    "    d = json.load(f)\n",
    "os.chdir(\"../\")\n",
    "d"
   ]
  },
  {
   "cell_type": "markdown",
   "id": "82b6b63d",
   "metadata": {},
   "source": [
    "# Agent params"
   ]
  },
  {
   "cell_type": "code",
   "execution_count": 10,
   "id": "c323bfbe",
   "metadata": {},
   "outputs": [
    {
     "name": "stdout",
     "output_type": "stream",
     "text": [
      "Nombre d'agents = 2. On démarre...\n",
      "[PARENT] Agent élu: v_degraded\n",
      "max_train_steps 995\n",
      "lr decay: 1 decay_update: 100 PER 1\n",
      "max_train_steps 995\n",
      "lr decay: 1 decay_update: 100 PER 1\n",
      "Dueling_QNetwork(\n",
      "(model): Sequential(\n",
      "(0): Linear(in_features=3280, out_features=1024, bias=True)\n",
      "(1): BatchNorm1d(1024, eps=1e-05, momentum=0.1, affine=True, track_running_stats=True)\n",
      "(2): ReLU()\n",
      "(3): Linear(in_features=1024, out_features=1024, bias=True)\n",
      "(4): BatchNorm1d(1024, eps=1e-05, momentum=0.1, affine=True, track_running_stats=True)\n",
      "(5): ReLU()\n",
      "(6): Linear(in_features=1024, out_features=1024, bias=True)\n",
      "(7): BatchNorm1d(1024, eps=1e-05, momentum=0.1, affine=True, track_running_stats=True)\n",
      "(8): ReLU()\n",
      "(9): Linear(in_features=1024, out_features=1024, bias=True)\n",
      "(10): BatchNorm1d(1024, eps=1e-05, momentum=0.1, affine=True, track_running_stats=True)\n",
      "(11): ReLU()\n",
      "(12): Linear(in_features=1024, out_features=1024, bias=True)\n",
      "(13): BatchNorm1d(1024, eps=1e-05, momentum=0.1, affine=True, track_running_stats=True)\n",
      "(14): ReLU()\n",
      "(15): Linear(in_features=1024, out_features=1024, bias=True)\n",
      "(16): BatchNorm1d(1024, eps=1e-05, momentum=0.1, affine=True, track_running_stats=True)\n",
      "(17): ReLU()\n",
      "(18): Linear(in_features=1024, out_features=1024, bias=True)\n",
      "(19): BatchNorm1d(1024, eps=1e-05, momentum=0.1, affine=True, track_running_stats=True)\n",
      "(20): ReLU()\n",
      "(21): Linear(in_features=1024, out_features=1024, bias=True)\n",
      "(22): BatchNorm1d(1024, eps=1e-05, momentum=0.1, affine=True, track_running_stats=True)\n",
      "(23): ReLU()\n",
      ")\n",
      "(ff_1_A): Linear(in_features=1024, out_features=1024, bias=True)\n",
      "(ff_1_V): Linear(in_features=1024, out_features=1024, bias=True)\n",
      "(bn_A): BatchNorm1d(1024, eps=1e-05, momentum=0.1, affine=True, track_running_stats=True)\n",
      "(bn_V): BatchNorm1d(1024, eps=1e-05, momentum=0.1, affine=True, track_running_stats=True)\n",
      "(advantage): Linear(in_features=1024, out_features=80, bias=True)\n",
      "(value): Linear(in_features=1024, out_features=1, bias=True)\n",
      ")\n",
      "Agent dqn initialized\n",
      "Train mode\n",
      "Reward weights {'v_required': 0, 'v_sent': 0, 'v_sent_full': 0, 'v_degraded': 0, 'cancelled': 0, 'function_not_found': 0, 'v1_not_sent_from_s1': -100, 'v3_not_sent_from_s3': 0, 'v_not_found_in_last_station': 0, 'ff_required': 0, 'ff_sent': 0, 'rupture_ff': 0, 'z1_VSAV_sent': 0, 'z1_FPT_sent': 0, 'z1_EPA_sent': 0, 'VSAV_needed': 0, 'FPT_needed': 0, 'EPA_needed': 0, 'VSAV_disp': 0, 'FPT_disp': 0, 'EPA_disp': 0, 'skill_lvl': 0}\n",
      "constraint factor veh is  1\n",
      "constraint factor ff is  1 Number of ff: 3343\n",
      "Dueling_QNetwork(\n",
      "(model): Sequential(\n",
      "(0): Linear(in_features=3280, out_features=1024, bias=True)\n",
      "(1): BatchNorm1d(1024, eps=1e-05, momentum=0.1, affine=True, track_running_stats=True)\n",
      "(2): ReLU()\n",
      "(3): Linear(in_features=1024, out_features=1024, bias=True)\n",
      "(4): BatchNorm1d(1024, eps=1e-05, momentum=0.1, affine=True, track_running_stats=True)\n",
      "(5): ReLU()\n",
      "(6): Linear(in_features=1024, out_features=1024, bias=True)\n",
      "(7): BatchNorm1d(1024, eps=1e-05, momentum=0.1, affine=True, track_running_stats=True)\n",
      "(8): ReLU()\n",
      "(9): Linear(in_features=1024, out_features=1024, bias=True)\n",
      "(10): BatchNorm1d(1024, eps=1e-05, momentum=0.1, affine=True, track_running_stats=True)\n",
      "(11): ReLU()\n",
      "(12): Linear(in_features=1024, out_features=1024, bias=True)\n",
      "(13): BatchNorm1d(1024, eps=1e-05, momentum=0.1, affine=True, track_running_stats=True)\n",
      "(14): ReLU()\n",
      "(15): Linear(in_features=1024, out_features=1024, bias=True)\n",
      "(16): BatchNorm1d(1024, eps=1e-05, momentum=0.1, affine=True, track_running_stats=True)\n",
      "(17): ReLU()\n",
      "(18): Linear(in_features=1024, out_features=1024, bias=True)\n",
      "(19): BatchNorm1d(1024, eps=1e-05, momentum=0.1, affine=True, track_running_stats=True)\n",
      "(20): ReLU()\n",
      "(21): Linear(in_features=1024, out_features=1024, bias=True)\n",
      "(22): BatchNorm1d(1024, eps=1e-05, momentum=0.1, affine=True, track_running_stats=True)\n",
      "(23): ReLU()\n",
      ")\n",
      "(ff_1_A): Linear(in_features=1024, out_features=1024, bias=True)\n",
      "(ff_1_V): Linear(in_features=1024, out_features=1024, bias=True)\n",
      "(bn_A): BatchNorm1d(1024, eps=1e-05, momentum=0.1, affine=True, track_running_stats=True)\n",
      "(bn_V): BatchNorm1d(1024, eps=1e-05, momentum=0.1, affine=True, track_running_stats=True)\n",
      "(advantage): Linear(in_features=1024, out_features=80, bias=True)\n",
      "(value): Linear(in_features=1024, out_features=1, bias=True)\n",
      ")\n",
      "Agent dqn initialized\n",
      "Train mode\n",
      "Reward weights {'v_required': 0, 'v_sent': 0, 'v_sent_full': 10, 'v_degraded': -100, 'cancelled': 0, 'function_not_found': 0, 'v1_not_sent_from_s1': 0, 'v3_not_sent_from_s3': 0, 'v_not_found_in_last_station': 0, 'ff_required': 0, 'ff_sent': 0, 'rupture_ff': 0, 'z1_VSAV_sent': 0, 'z1_FPT_sent': 0, 'z1_EPA_sent': 0, 'VSAV_needed': 0, 'FPT_needed': 0, 'EPA_needed': 0, 'VSAV_disp': 0, 'FPT_disp': 0, 'EPA_disp': 0, 'skill_lvl': 0}\n",
      "constraint factor veh is  1\n",
      "constraint factor ff is  1 Number of ff: 3343\n",
      "Z_4 ['CADOURS', 'CARBONNE', 'CAZERES', 'ASPET', 'CINTEGABELLE', 'AURIGNAC', 'ISLE EN DODON', 'LE FOUSSERET', 'MONTESQUIEU VOLVESTRE', 'MONTREJEAU', 'REVEL', 'BAGNERES DE LUCHON', 'RIEUMES', 'RIEUX VOLVESTRE', 'SALIES DU SALAT', 'ST BEAT', 'ST GAUDENS', 'ST MARTORY', 'VILLEFRANCHE DE LAURAGAIS', 'VILLEMUR S/TARN', 'BOULOGNE SUR GESSE']\n",
      "Z_4 ['CADOURS', 'CARBONNE', 'CAZERES', 'ASPET', 'CINTEGABELLE', 'AURIGNAC', 'ISLE EN DODON', 'LE FOUSSERET', 'MONTESQUIEU VOLVESTRE', 'MONTREJEAU', 'REVEL', 'BAGNERES DE LUCHON', 'RIEUMES', 'RIEUX VOLVESTRE', 'SALIES DU SALAT', 'ST BEAT', 'ST GAUDENS', 'ST MARTORY', 'VILLEFRANCHE DE LAURAGAIS', 'VILLEMUR S/TARN', 'BOULOGNE SUR GESSE']\n",
      "df start-end 0 424\n",
      "df start-end 0 424\n",
      "eps_start 1.0 eps_update 8\n",
      "eps_start 1.0 eps_update 8\n",
      "wandb: Currently logged in as: brandon-afonso3118 (brandon-afonso3118-university-of-toulouse) to https://api.wandb.ai. Use `wandb login --relogin` to force relogin\n",
      "wandb: Currently logged in as: brandon-afonso3118 (brandon-afonso3118-university-of-toulouse) to https://api.wandb.ai. Use `wandb login --relogin` to force relogin\n",
      "wandb: Tracking run with wandb version 0.21.0\n",
      "wandb: Run data is saved locally in /home/brandon/Projet_TER/TEST_byMe/SVG_model/wandb/run-20250726_183416-cessbj2r\n",
      "wandb: Run `wandb offline` to turn off syncing.\n",
      "wandb: Syncing run pomo_agent_v_degraded\n",
      "wandb: ⭐️ View project at https://wandb.ai/brandon-afonso3118-university-of-toulouse/simu_ff\n",
      "wandb: 🚀 View run at https://wandb.ai/brandon-afonso3118-university-of-toulouse/simu_ff/runs/cessbj2r\n",
      "wandb: Tracking run with wandb version 0.21.0\n",
      "wandb: Run data is saved locally in /home/brandon/Projet_TER/TEST_byMe/SVG_model/wandb/run-20250726_183416-v1w5wpii\n",
      "wandb: Run `wandb offline` to turn off syncing.\n",
      "wandb: Syncing run pomo_agent_v1_not_sent_from_s1\n",
      "wandb: ⭐️ View project at https://wandb.ai/brandon-afonso3118-university-of-toulouse/simu_ff\n",
      "wandb: 🚀 View run at https://wandb.ai/brandon-afonso3118-university-of-toulouse/simu_ff/runs/v1w5wpii\n",
      "100 v_out: 19 | rwd_mean: 3.00 | v1notfroms1: 23 | v3notfroms3: 0 | v_not_found_ls: 0 | deg: 1\n",
      "100 z1_VSAV_sent: 0 | z1_FPT_sent: 0 | z1_EPA_sent: 0 | VSAV_disp: 6 | FPT_disp: 0 | EPA_disp: 0 |\n",
      "100 v_out: 19 | rwd_mean: -10.00 | v1notfroms1: 22 | v3notfroms3: 0 | v_not_found_ls: 0 | deg: 2\n",
      "100 z1_VSAV_sent: 0 | z1_FPT_sent: 0 | z1_EPA_sent: 0 | VSAV_disp: 6 | FPT_disp: 0 | EPA_disp: 0 |\n",
      "[Agent 0] Élu pour sauvegarder à step 728\n",
      "200 v_out: 7 | rwd_mean: -10.00 | v1notfroms1: 74 | v3notfroms3: 0 | v_not_found_ls: 0 | deg: 3\n",
      "200 z1_VSAV_sent: 0 | z1_FPT_sent: 0 | z1_EPA_sent: 0 | VSAV_disp: 8 | FPT_disp: 0 | EPA_disp: 0 |\n",
      "Agent saved as pomo_agent_v1_not_sent_from_s1\n",
      "\n",
      "200 v_out: 7 | rwd_mean: 3.30 | v1notfroms1: 73 | v3notfroms3: 0 | v_not_found_ls: 0 | deg: 1\n",
      "200 z1_VSAV_sent: 0 | z1_FPT_sent: 0 | z1_EPA_sent: 0 | VSAV_disp: 8 | FPT_disp: 0 | EPA_disp: 0 |\n",
      "[Agent 0] Élu pour sauvegarder à step 784\n",
      "Agent saved as pomo_agent_v_degraded\n",
      "\n",
      "\u001b[1;34mwandb\u001b[0m:\n",
      "\u001b[1;34mwandb\u001b[0m: 🚀 View run \u001b[33mpomo_agent_v_degraded\u001b[0m at: \u001b[34mhttps://wandb.ai/brandon-afonso3118-university-of-toulouse/simu_ff/runs/cessbj2r\u001b[0m\n",
      "\u001b[1;34mwandb\u001b[0m: Find logs at: \u001b[1;35mwandb/run-20250726_183416-cessbj2r/logs\u001b[0m\n",
      "\u001b[1;34mwandb\u001b[0m:\n",
      "\u001b[1;34mwandb\u001b[0m: 🚀 View run \u001b[33mpomo_agent_v1_not_sent_from_s1\u001b[0m at: \u001b[34mhttps://wandb.ai/brandon-afonso3118-university-of-toulouse/simu_ff/runs/v1w5wpii\u001b[0m\n",
      "\u001b[1;34mwandb\u001b[0m: Find logs at: \u001b[1;35mwandb/run-20250726_183416-v1w5wpii/logs\u001b[0m\n"
     ]
    }
   ],
   "source": [
    "cmd = [\"python3\", \"-u\", \"agent_pomo_run.py\"]\n",
    "\n",
    "process = subprocess.Popen(\n",
    "    cmd,\n",
    "    stdout=subprocess.PIPE,\n",
    "    stderr=subprocess.STDOUT,\n",
    "    text=True,\n",
    "    bufsize=1\n",
    ")\n",
    "\n",
    "line_count = 0\n",
    "for line in process.stdout:\n",
    "    line_count += 1\n",
    "    #if line_count % 100 == 0:\n",
    "        #clear_output(wait=True)\n",
    "\n",
    "    print(line.strip())"
   ]
  },
  {
   "cell_type": "code",
   "execution_count": 15,
   "id": "025871cb",
   "metadata": {},
   "outputs": [
    {
     "name": "stdout",
     "output_type": "stream",
     "text": [
      "Type : <class 'numpy.ndarray'>\n",
      "(82, 40)\n",
      "[[1.         1.         1.         ... 0.         0.         0.        ]\n",
      " [0.         0.         0.         ... 0.         0.         0.        ]\n",
      " [0.125      0.125      0.125      ... 0.08796296 0.         0.        ]\n",
      " ...\n",
      " [0.         0.         0.         ... 0.         0.         0.        ]\n",
      " [0.         0.         0.         ... 0.         0.         0.        ]\n",
      " [0.         0.         0.         ... 0.         0.         0.        ]]\n"
     ]
    }
   ],
   "source": [
    "# Chemin vers ton fichier\n",
    "path = \"./SVG_model/shared_state_dqn.pt\"  # adapte si besoin\n",
    "\n",
    "# Charger le contenu\n",
    "data = torch.load(path, map_location=device,weights_only=False)  # map_location='cpu' si t'as pas besoin du GPU\n",
    "\n",
    "# Afficher le type d'objet\n",
    "print(\"Type :\", type(data))\n",
    "\n",
    "# S’il s’agit d’un dict :\n",
    "if isinstance(data, dict):\n",
    "    for key in data:\n",
    "        print(f\"{key}: {type(data[key])}\")\n",
    "        try:\n",
    "            print(f\" - valeur (résumé) : {data[key]}\")\n",
    "        except:\n",
    "            print(f\" - valeur non affichable\")\n",
    "print(data.shape)\n",
    "print(data)"
   ]
  },
  {
   "cell_type": "code",
   "execution_count": null,
   "id": "1c0bf0ef",
   "metadata": {},
   "outputs": [
    {
     "name": "stdout",
     "output_type": "stream",
     "text": [
      "[[[1.00000e+00 0.00000e+00]\n",
      "  [2.00000e+00 0.00000e+00]\n",
      "  [3.00000e+00 0.00000e+00]\n",
      "  ...\n",
      "  [2.53773e+05 0.00000e+00]\n",
      "  [2.53774e+05 0.00000e+00]\n",
      "  [2.53775e+05 0.00000e+00]]]\n"
     ]
    },
    {
     "data": {
      "image/png": "[encoded data removed]",
      "text/plain": [
       "<Figure size 2000x500 with 1 Axes>"
      ]
     },
     "metadata": {},
     "output_type": "display_data"
    },
    {
     "name": "stdout",
     "output_type": "stream",
     "text": [
      "Fin du script. Tout s’est bien déroulé.\n"
     ]
    }
   ],
   "source": [
    "import numpy as np\n",
    "\n",
    "def load_agent_rewards(metrics, num_agents=2):\n",
    "    \"\"\"Charge les récompenses de tous les agents depuis les fichiers .npy\"\"\"\n",
    "    all_rewards = []\n",
    "    for i in range(num_agents):\n",
    "        file_path = f\"Plots/agent_pomo_metrics_{metrics[i]}_r100_cf3_train_reward_fake.npy\"\n",
    "        if os.path.exists(file_path):\n",
    "            rewards = np.load(file_path)\n",
    "            all_rewards.append(rewards)\n",
    "    return np.array(all_rewards)\n",
    "\n",
    "def compute_pomo_loss(all_rewards):\n",
    "    \"\"\"Calcule la loss POMO avec baseline partagée comme dans le papier\"\"\"\n",
    "    rewards_tensor = torch.tensor(all_rewards, dtype=torch.float32)\n",
    "    baseline = rewards_tensor.mean(dim=0, keepdim=True)\n",
    "    advantages = rewards_tensor - baseline\n",
    "    loss = -torch.mean(advantages * torch.log(rewards_tensor + 1e-10))\n",
    "    return loss\n",
    "\n",
    "metrics = ['z1_sent', 'v_not_found_in_last_station']\n",
    "num_agents = len(metrics)\n",
    "all_rewards = load_agent_rewards(metrics, num_agents)\n",
    "loss = compute_pomo_loss(all_rewards)\n",
    "\n",
    "print(all_rewards)\n",
    "\n",
    "%run plot_evo.py agent_pomo_metrics_z1_sent_r100_cf3_train_reward_fake.npy --interpolation 100000\n"
   ]
  }
 ],
 "metadata": {
  "kernelspec": {
   "display_name": "env_pompier",
   "language": "python",
   "name": "python3"
  },
  "language_info": {
   "codemirror_mode": {
    "name": "ipython",
    "version": 3
   },
   "file_extension": ".py",
   "mimetype": "text/x-python",
   "name": "python",
   "nbconvert_exporter": "python",
   "pygments_lexer": "ipython3",
   "version": "3.12.3"
  }
 },
 "nbformat": 4,
 "nbformat_minor": 5
}
