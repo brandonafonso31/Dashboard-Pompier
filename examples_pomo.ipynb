{
 "cells": [
  {
   "cell_type": "code",
   "execution_count": 1,
   "id": "1562a5d3",
   "metadata": {},
   "outputs": [
    {
     "name": "stdout",
     "output_type": "stream",
     "text": [
      "device is cuda\n"
     ]
    }
   ],
   "source": [
    "import json\n",
    "import os\n",
    "import subprocess\n",
    "from IPython.display import clear_output\n",
    "\n",
    "os.environ[\"CUDA_LAUNCH_BLOCKING\"] = \"1\"\n",
    "os.environ[\"CUDA_VISIBLE_DEVICES\"] = \"0\"\n",
    "\n",
    "import torch \n",
    "device = torch.device(\"cuda\" if torch.cuda.is_available() else \"cpu\")\n",
    "print(\"device is\", device)"
   ]
  },
  {
   "cell_type": "markdown",
   "id": "d57302e2",
   "metadata": {},
   "source": [
    "# Generate metrics"
   ]
  },
  {
   "cell_type": "code",
   "execution_count": 2,
   "id": "1e7ae70a",
   "metadata": {},
   "outputs": [],
   "source": [
    "dic_tarif_zero = {'v_sent': 0,\n",
    "                  'v_sent_full': 0,\n",
    "            'v_degraded':0,\n",
    "            'cancelled':0, #cancel departure\n",
    "            'function_not_found':0,\n",
    "            'v1_not_sent_from_1st_station':0,\n",
    "            'v_not_found_in_last_station':0,\n",
    "            # 'ff_sent':0,\n",
    "            # 'ff_skill_mean':0,\n",
    "            'z1_sent': 0,\n",
    "            'skill_lvl':0\n",
    "            }"
   ]
  },
  {
   "cell_type": "code",
   "execution_count": 3,
   "id": "e22feeae",
   "metadata": {},
   "outputs": [
    {
     "data": {
      "text/plain": [
       "{'v_sent': 0,\n",
       " 'v_sent_full': 0,\n",
       " 'v_degraded': 0,\n",
       " 'cancelled': 0,\n",
       " 'function_not_found': 0,\n",
       " 'v1_not_sent_from_1st_station': 0,\n",
       " 'v_not_found_in_last_station': -100,\n",
       " 'z1_sent': 0,\n",
       " 'skill_lvl': 0}"
      ]
     },
     "execution_count": 3,
     "metadata": {},
     "output_type": "execute_result"
    }
   ],
   "source": [
    "os.chdir('./Reward_weights')\n",
    "\n",
    "with open(\"rw_v_not_found_in_last_station_r100_cf3.json\", \"r\") as f:\n",
    "    d = json.load(f)\n",
    "os.chdir(\"../\")\n",
    "d"
   ]
  },
  {
   "cell_type": "code",
   "execution_count": 4,
   "id": "1b9155d7",
   "metadata": {},
   "outputs": [
    {
     "data": {
      "text/plain": [
       "{'v_sent': 0,\n",
       " 'v_sent_full': 0,\n",
       " 'v_degraded': 0,\n",
       " 'cancelled': 0,\n",
       " 'function_not_found': 0,\n",
       " 'v1_not_sent_from_1st_station': 0,\n",
       " 'v_not_found_in_last_station': 0,\n",
       " 'z1_sent': -100,\n",
       " 'skill_lvl': 0}"
      ]
     },
     "execution_count": 4,
     "metadata": {},
     "output_type": "execute_result"
    }
   ],
   "source": [
    "os.chdir('./Reward_weights')\n",
    "\n",
    "with open(\"rw_z1_sent_r100_cf3.json\", \"r\") as f:\n",
    "    d = json.load(f)\n",
    "os.chdir(\"../\")\n",
    "d"
   ]
  },
  {
   "cell_type": "markdown",
   "id": "82b6b63d",
   "metadata": {},
   "source": [
    "# Agent params"
   ]
  },
  {
   "cell_type": "code",
   "execution_count": 29,
   "id": "c323bfbe",
   "metadata": {},
   "outputs": [
    {
     "name": "stdout",
     "output_type": "stream",
     "text": [
      "\u001b[2K\n",
      "\u001b[2K\n",
      "4500 v_out: 15 rwd_mean: 0.00 per ff: -0.04 act: 19494 per act.: -0.03078 v_not_found_ls: 6 deg: 80 z1_sent: 367 eps: 0.99 lr: 0.00093\n",
      "\u001b[2K\n",
      "\u001b[2K\n",
      "4500 v_out: 14 rwd_mean: 0.00 per ff: -0.23 act: 19476 per act.: -0.18998 v_not_found_ls: 6 deg: 81 z1_sent: 362 eps: 0.99 lr: 0.00093\n",
      "4600 v_out: 13 rwd_mean: 0.00 per ff: -0.04 act: 19930 per act.: -0.03011 v_not_found_ls: 6 deg: 82 z1_sent: 375 eps: 0.99 lr: 0.00093\n",
      "4600 v_out: 13 rwd_mean: 0.00 per ff: -0.23 act: 19933 per act.: -0.19064 v_not_found_ls: 6 deg: 82 z1_sent: 370 eps: 0.99 lr: 0.00093\n",
      "Véhicules non trouvés à la dernière station. Pénalité: -10\n",
      "4700 v_out: 8 rwd_mean: 0.00 per ff: -0.04 act: 20309 per act.: -0.03447 v_not_found_ls: 7 deg: 82 z1_sent: 379 eps: 0.99 lr: 0.00093\n",
      "4700 v_out: 8 rwd_mean: 0.00 per ff: -0.22 act: 20316 per act.: -0.18704 v_not_found_ls: 6 deg: 82 z1_sent: 374 eps: 0.99 lr: 0.00093\n",
      "4800 v_out: 19 rwd_mean: 0.00 per ff: -0.04 act: 20803 per act.: -0.03365 v_not_found_ls: 7 deg: 88 z1_sent: 389 eps: 0.99 lr: 0.00093\n",
      "4800 v_out: 19 rwd_mean: 0.00 per ff: -0.22 act: 20805 per act.: -0.18745 v_not_found_ls: 6 deg: 87 z1_sent: 384 eps: 0.99 lr: 0.00093\n",
      "4900 v_out: 14 rwd_mean: 0.00 per ff: -0.04 act: 21298 per act.: -0.03287 v_not_found_ls: 7 deg: 89 z1_sent: 400 eps: 0.99 lr: 0.00093\n",
      "4900 v_out: 14 rwd_mean: 0.00 per ff: -0.23 act: 21293 per act.: -0.19255 v_not_found_ls: 6 deg: 88 z1_sent: 393 eps: 0.99 lr: 0.00093\n",
      "Véhicules non trouvés à la dernière station. Pénalité: -10\n",
      "Véhicules non trouvés à la dernière station. Pénalité: -10\n",
      "5000 v_out: 7 rwd_mean: 0.00 per ff: -0.04 act: 21717 per act.: -0.03684 v_not_found_ls: 8 deg: 89 z1_sent: 403 eps: 0.99 lr: 0.00093\n",
      "5000 v_out: 7 rwd_mean: 0.00 per ff: -0.23 act: 21714 per act.: -0.18882 v_not_found_ls: 7 deg: 88 z1_sent: 398 eps: 0.99 lr: 0.00093\n",
      "5100 v_out: 10 rwd_mean: 0.00 per ff: -0.04 act: 22139 per act.: -0.03614 v_not_found_ls: 8 deg: 89 z1_sent: 413 eps: 0.97 lr: 0.00093\n",
      "5100 v_out: 10 rwd_mean: 0.00 per ff: -0.22 act: 22125 per act.: -0.18531 v_not_found_ls: 7 deg: 88 z1_sent: 405 eps: 0.97 lr: 0.00093\n",
      "Véhicules non trouvés à la dernière station. Pénalité: -10\n",
      "Véhicules non trouvés à la dernière station. Pénalité: -10\n",
      "5200 v_out: 14 rwd_mean: 0.00 per ff: -0.05 act: 22601 per act.: -0.03982 v_not_found_ls: 9 deg: 90 z1_sent: 420 eps: 0.97 lr: 0.00093\n",
      "5200 v_out: 14 rwd_mean: 0.00 per ff: -0.22 act: 22586 per act.: -0.18153 v_not_found_ls: 8 deg: 89 z1_sent: 413 eps: 0.97 lr: 0.00093\n",
      "step 22656 current lr : 0.0009231811931357961\n",
      "step 22656 current lr : 0.0009231811931357961\n",
      "5300 v_out: 19 rwd_mean: 0.00 per ff: -0.05 act: 22998 per act.: -0.03913 v_not_found_ls: 9 deg: 91 z1_sent: 422 eps: 0.97 lr: 0.00092\n",
      "5300 v_out: 21 rwd_mean: 0.00 per ff: -0.21 act: 23002 per act.: -0.17825 v_not_found_ls: 8 deg: 92 z1_sent: 415 eps: 0.97 lr: 0.00092\n",
      "5400 v_out: 8 rwd_mean: 0.00 per ff: -0.05 act: 23423 per act.: -0.03842 v_not_found_ls: 9 deg: 91 z1_sent: 428 eps: 0.97 lr: 0.00092\n",
      "5400 v_out: 8 rwd_mean: 0.00 per ff: -0.21 act: 23432 per act.: -0.17497 v_not_found_ls: 8 deg: 93 z1_sent: 420 eps: 0.97 lr: 0.00092\n",
      "5500 v_out: 12 rwd_mean: 0.00 per ff: -0.05 act: 23846 per act.: -0.03774 v_not_found_ls: 9 deg: 93 z1_sent: 435 eps: 0.97 lr: 0.00092\n",
      "5500 v_out: 12 rwd_mean: 0.00 per ff: -0.21 act: 23851 per act.: -0.17609 v_not_found_ls: 8 deg: 95 z1_sent: 428 eps: 0.97 lr: 0.00092\n",
      "5600 v_out: 11 rwd_mean: 0.00 per ff: -0.04 act: 24304 per act.: -0.03703 v_not_found_ls: 9 deg: 95 z1_sent: 440 eps: 0.97 lr: 0.00092\n",
      "5600 v_out: 11 rwd_mean: 0.00 per ff: -0.21 act: 24342 per act.: -0.17254 v_not_found_ls: 8 deg: 96 z1_sent: 433 eps: 0.97 lr: 0.00092\n",
      "5700 v_out: 9 rwd_mean: 0.00 per ff: -0.04 act: 24763 per act.: -0.03634 v_not_found_ls: 9 deg: 96 z1_sent: 451 eps: 0.97 lr: 0.00092\n",
      "5700 v_out: 9 rwd_mean: 0.00 per ff: -0.21 act: 24792 per act.: -0.17344 v_not_found_ls: 8 deg: 97 z1_sent: 444 eps: 0.97 lr: 0.00092\n",
      "5800 v_out: 8 rwd_mean: 0.00 per ff: -0.04 act: 25136 per act.: -0.03581 v_not_found_ls: 9 deg: 97 z1_sent: 458 eps: 0.97 lr: 0.00092\n",
      "5800 v_out: 8 rwd_mean: -1.00 per ff: -0.21 act: 25185 per act.: -0.17471 v_not_found_ls: 8 deg: 97 z1_sent: 450 eps: 0.97 lr: 0.00092\n",
      "5900 v_out: 14 rwd_mean: 0.00 per ff: -0.04 act: 25630 per act.: -0.03512 v_not_found_ls: 9 deg: 97 z1_sent: 464 eps: 0.97 lr: 0.00092\n",
      "5900 v_out: 14 rwd_mean: 0.00 per ff: -0.21 act: 25703 per act.: -0.17508 v_not_found_ls: 8 deg: 98 z1_sent: 458 eps: 0.97 lr: 0.00092\n",
      "step 25856 current lr : 0.0009123310791719255\n",
      "step 25856 current lr : 0.0009123310791719255\n",
      "6000 v_out: 6 rwd_mean: 0.00 per ff: -0.04 act: 26136 per act.: -0.03444 v_not_found_ls: 9 deg: 101 z1_sent: 474 eps: 0.97 lr: 0.00091\n",
      "6000 v_out: 6 rwd_mean: 0.00 per ff: -0.21 act: 26202 per act.: -0.17174 v_not_found_ls: 8 deg: 101 z1_sent: 468 eps: 0.97 lr: 0.00091\n",
      "Véhicules non trouvés à la dernière station. Pénalité: -10\n",
      "6100 v_out: 22 rwd_mean: -1.00 per ff: -0.05 act: 26603 per act.: -0.03759 v_not_found_ls: 10 deg: 101 z1_sent: 485 eps: 0.97 lr: 0.00091\n",
      "Véhicules non trouvés à la dernière station. Pénalité: -10\n",
      "6100 v_out: 22 rwd_mean: -1.00 per ff: -0.21 act: 26663 per act.: -0.17252 v_not_found_ls: 9 deg: 101 z1_sent: 479 eps: 0.97 lr: 0.00091\n",
      "6200 v_out: 12 rwd_mean: 0.00 per ff: -0.04 act: 27018 per act.: -0.03701 v_not_found_ls: 10 deg: 101 z1_sent: 495 eps: 0.97 lr: 0.00091\n",
      "Véhicules non trouvés à la dernière station. Pénalité: -10\n",
      "6200 v_out: 12 rwd_mean: 0.00 per ff: -0.20 act: 27062 per act.: -0.16998 v_not_found_ls: 9 deg: 101 z1_sent: 484 eps: 0.97 lr: 0.00091\n",
      "Véhicules non trouvés à la dernière station. Pénalité: -10\n",
      "6300 v_out: 7 rwd_mean: 0.00 per ff: -0.05 act: 27457 per act.: -0.04006 v_not_found_ls: 11 deg: 102 z1_sent: 502 eps: 0.97 lr: 0.00091\n",
      "6300 v_out: 7 rwd_mean: 0.00 per ff: -0.20 act: 27490 per act.: -0.16733 v_not_found_ls: 10 deg: 101 z1_sent: 491 eps: 0.97 lr: 0.00091\n",
      "6400 v_out: 5 rwd_mean: 0.00 per ff: -0.05 act: 27900 per act.: -0.03943 v_not_found_ls: 11 deg: 105 z1_sent: 511 eps: 0.97 lr: 0.00091\n",
      "6400 v_out: 5 rwd_mean: -1.00 per ff: -0.20 act: 27921 per act.: -0.16833 v_not_found_ls: 10 deg: 104 z1_sent: 500 eps: 0.97 lr: 0.00091\n",
      "6500 v_out: 6 rwd_mean: 0.00 per ff: -0.05 act: 28345 per act.: -0.03881 v_not_found_ls: 11 deg: 107 z1_sent: 519 eps: 0.97 lr: 0.00091\n",
      "6500 v_out: 6 rwd_mean: 0.00 per ff: -0.21 act: 28361 per act.: -0.17277 v_not_found_ls: 10 deg: 107 z1_sent: 508 eps: 0.97 lr: 0.00091\n",
      "Véhicules non trouvés à la dernière station. Pénalité: -10\n",
      "Véhicules non trouvés à la dernière station. Pénalité: -10\n",
      "6600 v_out: 18 rwd_mean: 0.00 per ff: -0.05 act: 28836 per act.: -0.04161 v_not_found_ls: 12 deg: 113 z1_sent: 529 eps: 0.97 lr: 0.00091\n",
      "6600 v_out: 18 rwd_mean: 0.00 per ff: -0.20 act: 28850 per act.: -0.16984 v_not_found_ls: 11 deg: 113 z1_sent: 511 eps: 0.97 lr: 0.00091\n",
      "step 29056 current lr : 0.0009014809652080548\n",
      "step 29056 current lr : 0.0009014809652080548\n",
      "6700 v_out: 29 rwd_mean: 0.00 per ff: -0.05 act: 29343 per act.: -0.04090 v_not_found_ls: 12 deg: 116 z1_sent: 532 eps: 0.97 lr: 0.00090\n",
      "6700 v_out: 27 rwd_mean: 0.00 per ff: -0.20 act: 29347 per act.: -0.16697 v_not_found_ls: 11 deg: 114 z1_sent: 513 eps: 0.97 lr: 0.00090\n",
      "Véhicules non trouvés à la dernière station. Pénalité: -10\n",
      "Véhicules non trouvés à la dernière station. Pénalité: -10\n",
      "Véhicules non trouvés à la dernière station. Pénalité: -10\n",
      "Véhicules non trouvés à la dernière station. Pénalité: -10\n",
      "6800 v_out: 9 rwd_mean: 0.00 per ff: -0.06 act: 29770 per act.: -0.04703 v_not_found_ls: 14 deg: 119 z1_sent: 537 eps: 0.97 lr: 0.00090\n",
      "6800 v_out: 9 rwd_mean: 0.00 per ff: -0.20 act: 29753 per act.: -0.16805 v_not_found_ls: 13 deg: 115 z1_sent: 520 eps: 0.97 lr: 0.00090\n",
      "6900 v_out: 19 rwd_mean: 0.00 per ff: -0.06 act: 30173 per act.: -0.04640 v_not_found_ls: 14 deg: 120 z1_sent: 543 eps: 0.97 lr: 0.00090\n",
      "6900 v_out: 19 rwd_mean: 0.00 per ff: -0.20 act: 30149 per act.: -0.16584 v_not_found_ls: 13 deg: 116 z1_sent: 524 eps: 0.97 lr: 0.00090\n",
      "7000 v_out: 10 rwd_mean: 0.00 per ff: -0.06 act: 30633 per act.: -0.04570 v_not_found_ls: 14 deg: 121 z1_sent: 553 eps: 0.97 lr: 0.00090\n",
      "7000 v_out: 10 rwd_mean: 0.00 per ff: -0.21 act: 30604 per act.: -0.16991 v_not_found_ls: 13 deg: 119 z1_sent: 531 eps: 0.97 lr: 0.00090\n",
      "Véhicules non trouvés à la dernière station. Pénalité: -10\n",
      "7100 v_out: 15 rwd_mean: 0.00 per ff: -0.06 act: 31133 per act.: -0.04818 v_not_found_ls: 15 deg: 122 z1_sent: 562 eps: 0.97 lr: 0.00090\n",
      "Véhicules non trouvés à la dernière station. Pénalité: -10\n",
      "7100 v_out: 15 rwd_mean: 0.00 per ff: -0.20 act: 31124 per act.: -0.16707 v_not_found_ls: 14 deg: 120 z1_sent: 539 eps: 0.97 lr: 0.00090\n",
      "7200 v_out: 15 rwd_mean: 0.00 per ff: -0.06 act: 31520 per act.: -0.04759 v_not_found_ls: 15 deg: 123 z1_sent: 570 eps: 0.97 lr: 0.00090\n"
     ]
    },
    {
     "ename": "KeyboardInterrupt",
     "evalue": "",
     "output_type": "error",
     "traceback": [
      "\u001b[31m---------------------------------------------------------------------------\u001b[39m",
      "\u001b[31mKeyboardInterrupt\u001b[39m                         Traceback (most recent call last)",
      "\u001b[36mCell\u001b[39m\u001b[36m \u001b[39m\u001b[32mIn[29]\u001b[39m\u001b[32m, line 12\u001b[39m\n\u001b[32m      3\u001b[39m process = subprocess.Popen(\n\u001b[32m      4\u001b[39m     cmd,\n\u001b[32m      5\u001b[39m     stdout=subprocess.PIPE,\n\u001b[32m   (...)\u001b[39m\u001b[32m      8\u001b[39m     bufsize=\u001b[32m1\u001b[39m\n\u001b[32m      9\u001b[39m )\n\u001b[32m     11\u001b[39m line_count = \u001b[32m0\u001b[39m\n\u001b[32m---> \u001b[39m\u001b[32m12\u001b[39m \u001b[38;5;28;43;01mfor\u001b[39;49;00m\u001b[43m \u001b[49m\u001b[43mline\u001b[49m\u001b[43m \u001b[49m\u001b[38;5;129;43;01min\u001b[39;49;00m\u001b[43m \u001b[49m\u001b[43mprocess\u001b[49m\u001b[43m.\u001b[49m\u001b[43mstdout\u001b[49m\u001b[43m:\u001b[49m\n\u001b[32m     13\u001b[39m \u001b[43m    \u001b[49m\u001b[43mline_count\u001b[49m\u001b[43m \u001b[49m\u001b[43m+\u001b[49m\u001b[43m=\u001b[49m\u001b[43m \u001b[49m\u001b[32;43m1\u001b[39;49m\n\u001b[32m     14\u001b[39m \u001b[43m    \u001b[49m\u001b[38;5;28;43;01mif\u001b[39;49;00m\u001b[43m \u001b[49m\u001b[43mline_count\u001b[49m\u001b[43m \u001b[49m\u001b[43m%\u001b[49m\u001b[43m \u001b[49m\u001b[32;43m100\u001b[39;49m\u001b[43m \u001b[49m\u001b[43m==\u001b[49m\u001b[43m \u001b[49m\u001b[32;43m0\u001b[39;49m\u001b[43m:\u001b[49m\n",
      "\u001b[31mKeyboardInterrupt\u001b[39m: "
     ]
    }
   ],
   "source": [
    "cmd = [\"python3\", \"-u\", \"agent_pomo_run.py\"]\n",
    "\n",
    "process = subprocess.Popen(\n",
    "    cmd,\n",
    "    stdout=subprocess.PIPE,\n",
    "    stderr=subprocess.STDOUT,\n",
    "    text=True,\n",
    "    bufsize=1\n",
    ")\n",
    "\n",
    "line_count = 0\n",
    "for line in process.stdout:\n",
    "    line_count += 1\n",
    "    if line_count % 100 == 0:\n",
    "        clear_output(wait=True)\n",
    "\n",
    "    print(line.strip())"
   ]
  }
 ],
 "metadata": {
  "kernelspec": {
   "display_name": "env_pompier",
   "language": "python",
   "name": "python3"
  },
  "language_info": {
   "codemirror_mode": {
    "name": "ipython",
    "version": 3
   },
   "file_extension": ".py",
   "mimetype": "text/x-python",
   "name": "python",
   "nbconvert_exporter": "python",
   "pygments_lexer": "ipython3",
   "version": "3.12.3"
  }
 },
 "nbformat": 4,
 "nbformat_minor": 5
}
