{
 "cells": [
  {
   "cell_type": "code",
   "execution_count": 1,
   "id": "1562a5d3",
   "metadata": {},
   "outputs": [
    {
     "name": "stdout",
     "output_type": "stream",
     "text": [
      "device is cuda\n"
     ]
    }
   ],
   "source": [
    "import json\n",
    "import os\n",
    "import subprocess\n",
    "from IPython.display import clear_output\n",
    "\n",
    "os.environ[\"CUDA_LAUNCH_BLOCKING\"] = \"1\"\n",
    "os.environ[\"CUDA_VISIBLE_DEVICES\"] = \"0\"\n",
    "\n",
    "import torch \n",
    "device = torch.device(\"cuda\" if torch.cuda.is_available() else \"cpu\")\n",
    "print(\"device is\", device)"
   ]
  },
  {
   "cell_type": "markdown",
   "id": "d57302e2",
   "metadata": {},
   "source": [
    "# Generate metrics"
   ]
  },
  {
   "cell_type": "code",
   "execution_count": 2,
   "id": "1e7ae70a",
   "metadata": {},
   "outputs": [],
   "source": [
    "dic_tarif_zero = {'v_sent': 0,\n",
    "                  'v_sent_full': 0,\n",
    "            'v_degraded':0,\n",
    "            'cancelled':0, #cancel departure\n",
    "            'function_not_found':0,\n",
    "            'v1_not_sent_from_1st_station':0,\n",
    "            'v_not_found_in_last_station':0,\n",
    "            # 'ff_sent':0,\n",
    "            # 'ff_skill_mean':0,\n",
    "            'z1_sent': 0,\n",
    "            'skill_lvl':0\n",
    "            }"
   ]
  },
  {
   "cell_type": "code",
   "execution_count": 3,
   "id": "e22feeae",
   "metadata": {},
   "outputs": [
    {
     "data": {
      "text/plain": [
       "{'v_sent': 0,\n",
       " 'v_sent_full': 0,\n",
       " 'v_degraded': 0,\n",
       " 'cancelled': 0,\n",
       " 'function_not_found': 0,\n",
       " 'v1_not_sent_from_1st_station': 0,\n",
       " 'v_not_found_in_last_station': -100,\n",
       " 'z1_sent': 0,\n",
       " 'skill_lvl': 0}"
      ]
     },
     "execution_count": 3,
     "metadata": {},
     "output_type": "execute_result"
    }
   ],
   "source": [
    "os.chdir('./Reward_weights')\n",
    "\n",
    "with open(\"rw_v_not_found_in_last_station_r100_cf3.json\", \"r\") as f:\n",
    "    d = json.load(f)\n",
    "os.chdir(\"../\")\n",
    "d"
   ]
  },
  {
   "cell_type": "code",
   "execution_count": 4,
   "id": "1b9155d7",
   "metadata": {},
   "outputs": [
    {
     "data": {
      "text/plain": [
       "{'v_sent': 0,\n",
       " 'v_sent_full': 0,\n",
       " 'v_degraded': 0,\n",
       " 'cancelled': 0,\n",
       " 'function_not_found': 0,\n",
       " 'v1_not_sent_from_1st_station': 0,\n",
       " 'v_not_found_in_last_station': 0,\n",
       " 'z1_sent': -100,\n",
       " 'skill_lvl': 0}"
      ]
     },
     "execution_count": 4,
     "metadata": {},
     "output_type": "execute_result"
    }
   ],
   "source": [
    "os.chdir('./Reward_weights')\n",
    "\n",
    "with open(\"rw_z1_sent_r100_cf3.json\", \"r\") as f:\n",
    "    d = json.load(f)\n",
    "os.chdir(\"../\")\n",
    "d"
   ]
  },
  {
   "cell_type": "markdown",
   "id": "82b6b63d",
   "metadata": {},
   "source": [
    "# Agent params"
   ]
  },
  {
   "cell_type": "code",
   "execution_count": 30,
   "id": "c323bfbe",
   "metadata": {},
   "outputs": [
    {
     "name": "stdout",
     "output_type": "stream",
     "text": [
      "Nombre d'agent = 2. on démarre le multi process ...\n",
      "max_train_steps 265435\n",
      "lr decay: 1 decay_update: 100 PER 1\n",
      "max_train_steps 265435\n",
      "lr decay: 1 decay_update: 100 PER 1\n",
      "Dueling_QNetwork(\n",
      "(model): Sequential(\n",
      "(0): Linear(in_features=3280, out_features=1024, bias=True)\n",
      "(1): BatchNorm1d(1024, eps=1e-05, momentum=0.1, affine=True, track_running_stats=True)\n",
      "(2): ReLU()\n",
      "(3): Linear(in_features=1024, out_features=1024, bias=True)\n",
      "(4): BatchNorm1d(1024, eps=1e-05, momentum=0.1, affine=True, track_running_stats=True)\n",
      "(5): ReLU()\n",
      "(6): Linear(in_features=1024, out_features=1024, bias=True)\n",
      "(7): BatchNorm1d(1024, eps=1e-05, momentum=0.1, affine=True, track_running_stats=True)\n",
      "(8): ReLU()\n",
      "(9): Linear(in_features=1024, out_features=1024, bias=True)\n",
      "(10): BatchNorm1d(1024, eps=1e-05, momentum=0.1, affine=True, track_running_stats=True)\n",
      "(11): ReLU()\n",
      "(12): Linear(in_features=1024, out_features=1024, bias=True)\n",
      "(13): BatchNorm1d(1024, eps=1e-05, momentum=0.1, affine=True, track_running_stats=True)\n",
      "(14): ReLU()\n",
      "(15): Linear(in_features=1024, out_features=1024, bias=True)\n",
      "(16): BatchNorm1d(1024, eps=1e-05, momentum=0.1, affine=True, track_running_stats=True)\n",
      "(17): ReLU()\n",
      "(18): Linear(in_features=1024, out_features=1024, bias=True)\n",
      "(19): BatchNorm1d(1024, eps=1e-05, momentum=0.1, affine=True, track_running_stats=True)\n",
      "(20): ReLU()\n",
      "(21): Linear(in_features=1024, out_features=1024, bias=True)\n",
      "(22): BatchNorm1d(1024, eps=1e-05, momentum=0.1, affine=True, track_running_stats=True)\n",
      "(23): ReLU()\n",
      ")\n",
      "(ff_1_A): Linear(in_features=1024, out_features=1024, bias=True)\n",
      "(ff_1_V): Linear(in_features=1024, out_features=1024, bias=True)\n",
      "(bn_A): BatchNorm1d(1024, eps=1e-05, momentum=0.1, affine=True, track_running_stats=True)\n",
      "(bn_V): BatchNorm1d(1024, eps=1e-05, momentum=0.1, affine=True, track_running_stats=True)\n",
      "(advantage): Linear(in_features=1024, out_features=80, bias=True)\n",
      "(value): Linear(in_features=1024, out_features=1, bias=True)\n",
      ")\n",
      "Agent initialized\n",
      "Train mode\n",
      "Reward weights {'v_sent': 0, 'v_sent_full': 0, 'v_degraded': 0, 'cancelled': 0, 'function_not_found': 0, 'v1_not_sent_from_1st_station': 0, 'v_not_found_in_last_station': 0, 'z1_sent': -100, 'skill_lvl': 0}\n",
      "constraint factor veh is  3\n",
      "constraint factor ff is  1 Number of ff: 3343\n",
      "Dueling_QNetwork(\n",
      "(model): Sequential(\n",
      "(0): Linear(in_features=3280, out_features=1024, bias=True)\n",
      "(1): BatchNorm1d(1024, eps=1e-05, momentum=0.1, affine=True, track_running_stats=True)\n",
      "(2): ReLU()\n",
      "(3): Linear(in_features=1024, out_features=1024, bias=True)\n",
      "(4): BatchNorm1d(1024, eps=1e-05, momentum=0.1, affine=True, track_running_stats=True)\n",
      "(5): ReLU()\n",
      "(6): Linear(in_features=1024, out_features=1024, bias=True)\n",
      "(7): BatchNorm1d(1024, eps=1e-05, momentum=0.1, affine=True, track_running_stats=True)\n",
      "(8): ReLU()\n",
      "(9): Linear(in_features=1024, out_features=1024, bias=True)\n",
      "(10): BatchNorm1d(1024, eps=1e-05, momentum=0.1, affine=True, track_running_stats=True)\n",
      "(11): ReLU()\n",
      "(12): Linear(in_features=1024, out_features=1024, bias=True)\n",
      "(13): BatchNorm1d(1024, eps=1e-05, momentum=0.1, affine=True, track_running_stats=True)\n",
      "(14): ReLU()\n",
      "(15): Linear(in_features=1024, out_features=1024, bias=True)\n",
      "(16): BatchNorm1d(1024, eps=1e-05, momentum=0.1, affine=True, track_running_stats=True)\n",
      "(17): ReLU()\n",
      "(18): Linear(in_features=1024, out_features=1024, bias=True)\n",
      "(19): BatchNorm1d(1024, eps=1e-05, momentum=0.1, affine=True, track_running_stats=True)\n",
      "(20): ReLU()\n",
      "(21): Linear(in_features=1024, out_features=1024, bias=True)\n",
      "(22): BatchNorm1d(1024, eps=1e-05, momentum=0.1, affine=True, track_running_stats=True)\n",
      "(23): ReLU()\n",
      ")\n",
      "(ff_1_A): Linear(in_features=1024, out_features=1024, bias=True)\n",
      "(ff_1_V): Linear(in_features=1024, out_features=1024, bias=True)\n",
      "(bn_A): BatchNorm1d(1024, eps=1e-05, momentum=0.1, affine=True, track_running_stats=True)\n",
      "(bn_V): BatchNorm1d(1024, eps=1e-05, momentum=0.1, affine=True, track_running_stats=True)\n",
      "(advantage): Linear(in_features=1024, out_features=80, bias=True)\n",
      "(value): Linear(in_features=1024, out_features=1, bias=True)\n",
      ")\n",
      "Agent initialized\n",
      "Train mode\n",
      "Reward weights {'v_sent': 0, 'v_sent_full': 0, 'v_degraded': 0, 'cancelled': 0, 'function_not_found': 0, 'v1_not_sent_from_1st_station': 0, 'v_not_found_in_last_station': -100, 'z1_sent': 0, 'skill_lvl': 0}\n",
      "constraint factor veh is  3\n",
      "constraint factor ff is  1 Number of ff: 3343\n",
      "df start-end 0 106173 53087.0\n",
      "df start-end 0 106173 53087.0\n",
      "eps_fixed False eps 1 eps_update 2527\n",
      "eps_fixed False eps 1 eps_update 2527\n",
      "100 v_out: 11 rwd_mean: 0.00 per ff: -0.23 act: 493 per act.: -0.20284 v_not_found_ls: 0 deg: 0 z1_sent: 9 eps: 1.00 lr: 0.00100\n",
      "100 v_out: 11 rwd_mean: 0.00 per ff: 0.00 act: 493 per act.: 0.00000 v_not_found_ls: 0 deg: 0 z1_sent: 9 eps: 1.00 lr: 0.00100\n",
      "200 v_out: 11 rwd_mean: 0.00 per ff: -0.28 act: 835 per act.: -0.23952 v_not_found_ls: 0 deg: 1 z1_sent: 17 eps: 1.00 lr: 0.00100\n",
      "200 v_out: 11 rwd_mean: 0.00 per ff: 0.00 act: 835 per act.: 0.00000 v_not_found_ls: 0 deg: 1 z1_sent: 17 eps: 1.00 lr: 0.00100\n"
     ]
    },
    {
     "ename": "KeyboardInterrupt",
     "evalue": "",
     "output_type": "error",
     "traceback": [
      "\u001b[31m---------------------------------------------------------------------------\u001b[39m",
      "\u001b[31mKeyboardInterrupt\u001b[39m                         Traceback (most recent call last)",
      "\u001b[36mCell\u001b[39m\u001b[36m \u001b[39m\u001b[32mIn[30]\u001b[39m\u001b[32m, line 12\u001b[39m\n\u001b[32m      3\u001b[39m process = subprocess.Popen(\n\u001b[32m      4\u001b[39m     cmd,\n\u001b[32m      5\u001b[39m     stdout=subprocess.PIPE,\n\u001b[32m   (...)\u001b[39m\u001b[32m      8\u001b[39m     bufsize=\u001b[32m1\u001b[39m\n\u001b[32m      9\u001b[39m )\n\u001b[32m     11\u001b[39m line_count = \u001b[32m0\u001b[39m\n\u001b[32m---> \u001b[39m\u001b[32m12\u001b[39m \u001b[38;5;28;43;01mfor\u001b[39;49;00m\u001b[43m \u001b[49m\u001b[43mline\u001b[49m\u001b[43m \u001b[49m\u001b[38;5;129;43;01min\u001b[39;49;00m\u001b[43m \u001b[49m\u001b[43mprocess\u001b[49m\u001b[43m.\u001b[49m\u001b[43mstdout\u001b[49m\u001b[43m:\u001b[49m\n\u001b[32m     13\u001b[39m \u001b[43m    \u001b[49m\u001b[43mline_count\u001b[49m\u001b[43m \u001b[49m\u001b[43m+\u001b[49m\u001b[43m=\u001b[49m\u001b[43m \u001b[49m\u001b[32;43m1\u001b[39;49m\n\u001b[32m     14\u001b[39m \u001b[43m    \u001b[49m\u001b[38;5;28;43;01mif\u001b[39;49;00m\u001b[43m \u001b[49m\u001b[43mline_count\u001b[49m\u001b[43m \u001b[49m\u001b[43m%\u001b[49m\u001b[43m \u001b[49m\u001b[32;43m100\u001b[39;49m\u001b[43m \u001b[49m\u001b[43m==\u001b[49m\u001b[43m \u001b[49m\u001b[32;43m0\u001b[39;49m\u001b[43m:\u001b[49m\n",
      "\u001b[31mKeyboardInterrupt\u001b[39m: "
     ]
    }
   ],
   "source": [
    "cmd = [\"python3\", \"-u\", \"agent_pomo_run.py\"]\n",
    "\n",
    "process = subprocess.Popen(\n",
    "    cmd,\n",
    "    stdout=subprocess.PIPE,\n",
    "    stderr=subprocess.STDOUT,\n",
    "    text=True,\n",
    "    bufsize=1\n",
    ")\n",
    "\n",
    "line_count = 0\n",
    "for line in process.stdout:\n",
    "    line_count += 1\n",
    "    if line_count % 100 == 0:\n",
    "        clear_output(wait=True)\n",
    "\n",
    "    print(line.strip())"
   ]
  }
 ],
 "metadata": {
  "kernelspec": {
   "display_name": "env_pompier",
   "language": "python",
   "name": "python3"
  },
  "language_info": {
   "codemirror_mode": {
    "name": "ipython",
    "version": 3
   },
   "file_extension": ".py",
   "mimetype": "text/x-python",
   "name": "python",
   "nbconvert_exporter": "python",
   "pygments_lexer": "ipython3",
   "version": "3.12.3"
  }
 },
 "nbformat": 4,
 "nbformat_minor": 5
}
