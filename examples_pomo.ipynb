{
 "cells": [
  {
   "cell_type": "code",
   "execution_count": 2,
   "id": "1562a5d3",
   "metadata": {},
   "outputs": [
    {
     "name": "stderr",
     "output_type": "stream",
     "text": [
      "/home/brandon/Projet_TER/TEST_byMe/env_pompier/lib/python3.12/site-packages/torch/_subclasses/functional_tensor.py:276: UserWarning: Failed to initialize NumPy: No module named 'numpy' (Triggered internally at /pytorch/torch/csrc/utils/tensor_numpy.cpp:81.)\n",
      "  cpu = _conversion_method_template(device=torch.device(\"cpu\"))\n"
     ]
    },
    {
     "name": "stdout",
     "output_type": "stream",
     "text": [
      "device is cuda\n"
     ]
    }
   ],
   "source": [
    "import json\n",
    "import os\n",
    "import subprocess\n",
    "from IPython.display import clear_output\n",
    "\n",
    "os.environ[\"CUDA_LAUNCH_BLOCKING\"] = \"1\"\n",
    "os.environ[\"CUDA_VISIBLE_DEVICES\"] = \"0\"\n",
    "\n",
    "import torch \n",
    "device = torch.device(\"cuda\" if torch.cuda.is_available() else \"cpu\")\n",
    "print(\"device is\", device)"
   ]
  },
  {
   "cell_type": "markdown",
   "id": "d57302e2",
   "metadata": {},
   "source": [
    "# Generate metrics"
   ]
  },
  {
   "cell_type": "code",
   "execution_count": 11,
   "id": "1e7ae70a",
   "metadata": {},
   "outputs": [],
   "source": [
    "dic_tarif_zero = {'v_sent': 0,\n",
    "                  'v_sent_full': 0,\n",
    "            'v_degraded':0,\n",
    "            'cancelled':0, #cancel departure\n",
    "            'function_not_found':0,\n",
    "            'v1_not_sent_from_1st_station':0,\n",
    "            'v_not_found_in_last_station':0,\n",
    "            # 'ff_sent':0,\n",
    "            # 'ff_skill_mean':0,\n",
    "            'z1_sent': 0,\n",
    "            'skill_lvl':0\n",
    "            }"
   ]
  },
  {
   "cell_type": "code",
   "execution_count": 12,
   "id": "e22feeae",
   "metadata": {},
   "outputs": [
    {
     "data": {
      "text/plain": [
       "{'v_sent': 0,\n",
       " 'v_sent_full': 0,\n",
       " 'v_degraded': 0,\n",
       " 'cancelled': 0,\n",
       " 'function_not_found': 0,\n",
       " 'v1_not_sent_from_1st_station': 0,\n",
       " 'v_not_found_in_last_station': 0,\n",
       " 'z1_sent': 0,\n",
       " 'skill_lvl': 100}"
      ]
     },
     "execution_count": 12,
     "metadata": {},
     "output_type": "execute_result"
    }
   ],
   "source": [
    "os.chdir('./Reward_weights')\n",
    "\n",
    "with open(\"rw_skill_lvl_r100_cf3.json\", \"r\") as f:\n",
    "    d = json.load(f)\n",
    "os.chdir(\"../\")\n",
    "d"
   ]
  },
  {
   "cell_type": "markdown",
   "id": "82b6b63d",
   "metadata": {},
   "source": [
    "# Agent params"
   ]
  },
  {
   "cell_type": "code",
   "execution_count": null,
   "id": "c323bfbe",
   "metadata": {},
   "outputs": [
    {
     "name": "stdout",
     "output_type": "stream",
     "text": [
      "/home/brandon/Projet_TER/TEST_byMe\n",
      "\n",
      "Bien arrivé dans agent_pomo_run !\n",
      "\n",
      "Nombre d'agent = 5. on démarre le multi process ...\n",
      "\n",
      "Bien arrivé dans la fonction run_agent !\n",
      "La commande de l'agent agent_z1_pomo_sent__r100_cf3_agent_0 est ['python3', 'agent_run.py', '--model_name', 'agent_z1_pomo_sent__r100_cf3_agent_0', '--hyper_params', 'hyper_params.json', '--reward_weights', 'rw_z1_sent_r100_cf3.json', '--dataset', 'df_pc_fake_1y.pkl', '--start', '1', '--end', '53088', '--constraint_factor_veh', '3', '--constraint_factor_ff', '1', '--save_metrics_as', 'agent_pomo_metrics_z1_pomo_sent__r100_cf3_agent_0', '--train']\n",
      "\n",
      "\n",
      "Bien arrivé dans la fonction run_agent !\n",
      "La commande de l'agent agent_z1_pomo_sent__r100_cf3_agent_1 est ['python3', 'agent_run.py', '--model_name', 'agent_z1_pomo_sent__r100_cf3_agent_1', '--hyper_params', 'hyper_params.json', '--reward_weights', 'rw_z1_sent_r100_cf3.json', '--dataset', 'df_pc_fake_1y.pkl', '--start', '1', '--end', '53088', '--constraint_factor_veh', '3', '--constraint_factor_ff', '1', '--save_metrics_as', 'agent_pomo_metrics_z1_pomo_sent__r100_cf3_agent_1', '--train']\n",
      "\n",
      "\n",
      "Bien arrivé dans la fonction run_agent !\n",
      "La commande de l'agent agent_z1_pomo_sent__r100_cf3_agent_2 est ['python3', 'agent_run.py', '--model_name', 'agent_z1_pomo_sent__r100_cf3_agent_2', '--hyper_params', 'hyper_params.json', '--reward_weights', 'rw_z1_sent_r100_cf3.json', '--dataset', 'df_pc_fake_1y.pkl', '--start', '1', '--end', '53088', '--constraint_factor_veh', '3', '--constraint_factor_ff', '1', '--save_metrics_as', 'agent_pomo_metrics_z1_pomo_sent__r100_cf3_agent_2', '--train']\n",
      "\n",
      "\n",
      "Bien arrivé dans la fonction run_agent !\n",
      "\n",
      "Bien arrivé dans la fonction run_agent !\n",
      "La commande de l'agent agent_z1_pomo_sent__r100_cf3_agent_3 est ['python3', 'agent_run.py', '--model_name', 'agent_z1_pomo_sent__r100_cf3_agent_3', '--hyper_params', 'hyper_params.json', '--reward_weights', 'rw_z1_sent_r100_cf3.json', '--dataset', 'df_pc_fake_1y.pkl', '--start', '1', '--end', '53088', '--constraint_factor_veh', '3', '--constraint_factor_ff', '1', '--save_metrics_as', 'agent_pomo_metrics_z1_pomo_sent__r100_cf3_agent_3', '--train']\n",
      "\n",
      "La commande de l'agent agent_z1_pomo_sent__r100_cf3_agent_4 est ['python3', 'agent_run.py', '--model_name', 'agent_z1_pomo_sent__r100_cf3_agent_4', '--hyper_params', 'hyper_params.json', '--reward_weights', 'rw_z1_sent_r100_cf3.json', '--dataset', 'df_pc_fake_1y.pkl', '--start', '1', '--end', '53088', '--constraint_factor_veh', '3', '--constraint_factor_ff', '1', '--save_metrics_as', 'agent_pomo_metrics_z1_pomo_sent__r100_cf3_agent_4', '--train']\n",
      "\n",
      "max_train_steps 265435\n",
      "lr decay: 1 decay_update: 100 PER 1\n",
      "max_train_steps 265435\n",
      "lr decay: 1 decay_update: 100 PER 1\n",
      "max_train_steps 265435\n",
      "lr decay: 1 decay_update: 100 PER 1\n",
      "max_train_steps 265435\n",
      "lr decay: 1 decay_update: 100 PER 1\n",
      "max_train_steps 265435\n",
      "lr decay: 1 decay_update: 100 PER 1\n"
     ]
    },
    {
     "ename": "KeyboardInterrupt",
     "evalue": "",
     "output_type": "error",
     "traceback": [
      "\u001b[31m---------------------------------------------------------------------------\u001b[39m",
      "\u001b[31mKeyboardInterrupt\u001b[39m                         Traceback (most recent call last)",
      "\u001b[36mCell\u001b[39m\u001b[36m \u001b[39m\u001b[32mIn[34]\u001b[39m\u001b[32m, line 13\u001b[39m\n\u001b[32m      4\u001b[39m process = subprocess.Popen(\n\u001b[32m      5\u001b[39m     cmd,\n\u001b[32m      6\u001b[39m     stdout=subprocess.PIPE,\n\u001b[32m   (...)\u001b[39m\u001b[32m      9\u001b[39m     bufsize=\u001b[32m1\u001b[39m\n\u001b[32m     10\u001b[39m )\n\u001b[32m     12\u001b[39m line_count = \u001b[32m0\u001b[39m\n\u001b[32m---> \u001b[39m\u001b[32m13\u001b[39m \u001b[38;5;28;43;01mfor\u001b[39;49;00m\u001b[43m \u001b[49m\u001b[43mline\u001b[49m\u001b[43m \u001b[49m\u001b[38;5;129;43;01min\u001b[39;49;00m\u001b[43m \u001b[49m\u001b[43mprocess\u001b[49m\u001b[43m.\u001b[49m\u001b[43mstdout\u001b[49m\u001b[43m:\u001b[49m\n\u001b[32m     14\u001b[39m \u001b[43m    \u001b[49m\u001b[43mline_count\u001b[49m\u001b[43m \u001b[49m\u001b[43m+\u001b[49m\u001b[43m=\u001b[49m\u001b[43m \u001b[49m\u001b[32;43m1\u001b[39;49m\n\u001b[32m     15\u001b[39m \u001b[43m    \u001b[49m\u001b[38;5;28;43;01mif\u001b[39;49;00m\u001b[43m \u001b[49m\u001b[43mline_count\u001b[49m\u001b[43m \u001b[49m\u001b[43m%\u001b[49m\u001b[43m \u001b[49m\u001b[32;43m100\u001b[39;49m\u001b[43m \u001b[49m\u001b[43m==\u001b[49m\u001b[43m \u001b[49m\u001b[32;43m0\u001b[39;49m\u001b[43m:\u001b[49m\n",
      "\u001b[31mKeyboardInterrupt\u001b[39m: "
     ]
    }
   ],
   "source": [
    "cmd = [\"python3\", \"-u\", \"agent_pomo_run.py\"]\n",
    "\n",
    "process = subprocess.Popen(\n",
    "    cmd,\n",
    "    stdout=subprocess.PIPE,\n",
    "    stderr=subprocess.STDOUT,\n",
    "    text=True,\n",
    "    bufsize=1\n",
    ")\n",
    "\n",
    "line_count = 0\n",
    "for line in process.stdout:\n",
    "    line_count += 1\n",
    "    if line_count % 100 == 0:\n",
    "        clear_output(wait=True)\n",
    "\n",
    "    print(line.strip())"
   ]
  }
 ],
 "metadata": {
  "kernelspec": {
   "display_name": "env_pompier",
   "language": "python",
   "name": "python3"
  },
  "language_info": {
   "codemirror_mode": {
    "name": "ipython",
    "version": 3
   },
   "file_extension": ".py",
   "mimetype": "text/x-python",
   "name": "python",
   "nbconvert_exporter": "python",
   "pygments_lexer": "ipython3",
   "version": "3.12.3"
  }
 },
 "nbformat": 4,
 "nbformat_minor": 5
}
